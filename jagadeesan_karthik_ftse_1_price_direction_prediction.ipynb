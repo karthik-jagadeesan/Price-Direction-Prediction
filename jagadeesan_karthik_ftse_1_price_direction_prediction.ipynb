{
  "nbformat": 4,
  "nbformat_minor": 0,
  "metadata": {
    "kernelspec": {
      "display_name": "Python 3",
      "language": "python",
      "name": "python3"
    },
    "language_info": {
      "codemirror_mode": {
        "name": "ipython",
        "version": 3
      },
      "file_extension": ".py",
      "mimetype": "text/x-python",
      "name": "python",
      "nbconvert_exporter": "python",
      "pygments_lexer": "ipython3",
      "version": "3.6.8"
    },
    "colab": {
      "name": "jagadeesan_karthik_ftse_1_price_direction_prediction.ipynb",
      "provenance": [],
      "collapsed_sections": [
        "MbaOGQYrlZb6"
      ]
    }
  },
  "cells": [
    {
      "cell_type": "code",
      "metadata": {
        "id": "17KMfU9skAtm",
        "colab_type": "code",
        "colab": {}
      },
      "source": [
        "import yfinance as yf\n",
        "import pandas as pd\n",
        "import numpy as np\n",
        "import matplotlib.pyplot as plt"
      ],
      "execution_count": 0,
      "outputs": []
    },
    {
      "cell_type": "code",
      "metadata": {
        "id": "ZctR9-W0J3nv",
        "colab_type": "code",
        "outputId": "377481c0-5693-40d3-93b7-86e167f7b5a3",
        "colab": {
          "base_uri": "https://localhost:8080/",
          "height": 252
        }
      },
      "source": [
        "df = yf.download(\"^FTSE\", start=\"2010-10-01\", end=\"2017-09-30\")\n",
        "df = df[[\"Open\", \"High\", \"Low\", \"Adj Close\"]]\n",
        "df.columns = \"open high low close\".split()\n",
        "df.head()\n"
      ],
      "execution_count": 0,
      "outputs": [
        {
          "output_type": "stream",
          "text": [
            "\r[*********************100%***********************]  1 of 1 completed\n"
          ],
          "name": "stdout"
        },
        {
          "output_type": "execute_result",
          "data": {
            "text/html": [
              "<div>\n",
              "<style scoped>\n",
              "    .dataframe tbody tr th:only-of-type {\n",
              "        vertical-align: middle;\n",
              "    }\n",
              "\n",
              "    .dataframe tbody tr th {\n",
              "        vertical-align: top;\n",
              "    }\n",
              "\n",
              "    .dataframe thead th {\n",
              "        text-align: right;\n",
              "    }\n",
              "</style>\n",
              "<table border=\"1\" class=\"dataframe\">\n",
              "  <thead>\n",
              "    <tr style=\"text-align: right;\">\n",
              "      <th></th>\n",
              "      <th>open</th>\n",
              "      <th>high</th>\n",
              "      <th>low</th>\n",
              "      <th>close</th>\n",
              "    </tr>\n",
              "    <tr>\n",
              "      <th>Date</th>\n",
              "      <th></th>\n",
              "      <th></th>\n",
              "      <th></th>\n",
              "      <th></th>\n",
              "    </tr>\n",
              "  </thead>\n",
              "  <tbody>\n",
              "    <tr>\n",
              "      <th>2010-10-01</th>\n",
              "      <td>5548.600098</td>\n",
              "      <td>5615.100098</td>\n",
              "      <td>5547.600098</td>\n",
              "      <td>5592.899902</td>\n",
              "    </tr>\n",
              "    <tr>\n",
              "      <th>2010-10-04</th>\n",
              "      <td>5592.899902</td>\n",
              "      <td>5601.200195</td>\n",
              "      <td>5550.799805</td>\n",
              "      <td>5556.000000</td>\n",
              "    </tr>\n",
              "    <tr>\n",
              "      <th>2010-10-05</th>\n",
              "      <td>5556.000000</td>\n",
              "      <td>5646.100098</td>\n",
              "      <td>5550.600098</td>\n",
              "      <td>5635.799805</td>\n",
              "    </tr>\n",
              "    <tr>\n",
              "      <th>2010-10-06</th>\n",
              "      <td>5635.799805</td>\n",
              "      <td>5695.500000</td>\n",
              "      <td>5635.799805</td>\n",
              "      <td>5681.399902</td>\n",
              "    </tr>\n",
              "    <tr>\n",
              "      <th>2010-10-07</th>\n",
              "      <td>5681.399902</td>\n",
              "      <td>5707.299805</td>\n",
              "      <td>5650.799805</td>\n",
              "      <td>5662.100098</td>\n",
              "    </tr>\n",
              "  </tbody>\n",
              "</table>\n",
              "</div>"
            ],
            "text/plain": [
              "                   open         high          low        close\n",
              "Date                                                          \n",
              "2010-10-01  5548.600098  5615.100098  5547.600098  5592.899902\n",
              "2010-10-04  5592.899902  5601.200195  5550.799805  5556.000000\n",
              "2010-10-05  5556.000000  5646.100098  5550.600098  5635.799805\n",
              "2010-10-06  5635.799805  5695.500000  5635.799805  5681.399902\n",
              "2010-10-07  5681.399902  5707.299805  5650.799805  5662.100098"
            ]
          },
          "metadata": {
            "tags": []
          },
          "execution_count": 3
        }
      ]
    },
    {
      "cell_type": "markdown",
      "metadata": {
        "id": "5eMAbwRuduHU",
        "colab_type": "text"
      },
      "source": [
        "## Add feature columns"
      ]
    },
    {
      "cell_type": "code",
      "metadata": {
        "id": "J_Kz9i8tcpAW",
        "colab_type": "code",
        "outputId": "940ab127-fb49-482c-9f15-5676f9ac7a12",
        "colab": {
          "base_uri": "https://localhost:8080/",
          "height": 337
        }
      },
      "source": [
        "# Set k = 5\n",
        "k = 5\n",
        "df[\"return\"] = np.log(df[\"close\"]/df[\"close\"].shift(1))\n",
        "df[\"momentum\"] = df[\"close\"] - df[\"close\"].shift(k)\n",
        "df[\"SMA\"] = df[\"close\"].rolling(k).mean()\n",
        "df[\"EMA\"] = pd.Series.ewm(df['close'], span=k).mean()\n",
        "df[\"return_sign\"] = np.where(df[\"close\"]  - df[\"close\"].shift(1) > 0, 1, -1)\n",
        "df[\"std\"] = df[\"return\"].rolling(k).std()\n",
        "\n",
        "# Drop the NaN values\n",
        "df = df.dropna()\n",
        "df.head(5)\n"
      ],
      "execution_count": 0,
      "outputs": [
        {
          "output_type": "stream",
          "text": [
            "/usr/local/lib/python3.6/dist-packages/ipykernel_launcher.py:3: SettingWithCopyWarning: \n",
            "A value is trying to be set on a copy of a slice from a DataFrame.\n",
            "Try using .loc[row_indexer,col_indexer] = value instead\n",
            "\n",
            "See the caveats in the documentation: https://pandas.pydata.org/pandas-docs/stable/user_guide/indexing.html#returning-a-view-versus-a-copy\n",
            "  This is separate from the ipykernel package so we can avoid doing imports until\n"
          ],
          "name": "stderr"
        },
        {
          "output_type": "execute_result",
          "data": {
            "text/html": [
              "<div>\n",
              "<style scoped>\n",
              "    .dataframe tbody tr th:only-of-type {\n",
              "        vertical-align: middle;\n",
              "    }\n",
              "\n",
              "    .dataframe tbody tr th {\n",
              "        vertical-align: top;\n",
              "    }\n",
              "\n",
              "    .dataframe thead th {\n",
              "        text-align: right;\n",
              "    }\n",
              "</style>\n",
              "<table border=\"1\" class=\"dataframe\">\n",
              "  <thead>\n",
              "    <tr style=\"text-align: right;\">\n",
              "      <th></th>\n",
              "      <th>open</th>\n",
              "      <th>high</th>\n",
              "      <th>low</th>\n",
              "      <th>close</th>\n",
              "      <th>return</th>\n",
              "      <th>momentum</th>\n",
              "      <th>SMA</th>\n",
              "      <th>EMA</th>\n",
              "      <th>return_sign</th>\n",
              "      <th>std</th>\n",
              "    </tr>\n",
              "    <tr>\n",
              "      <th>Date</th>\n",
              "      <th></th>\n",
              "      <th></th>\n",
              "      <th></th>\n",
              "      <th></th>\n",
              "      <th></th>\n",
              "      <th></th>\n",
              "      <th></th>\n",
              "      <th></th>\n",
              "      <th></th>\n",
              "      <th></th>\n",
              "    </tr>\n",
              "  </thead>\n",
              "  <tbody>\n",
              "    <tr>\n",
              "      <th>2010-10-08</th>\n",
              "      <td>5662.100098</td>\n",
              "      <td>5663.700195</td>\n",
              "      <td>5606.600098</td>\n",
              "      <td>5657.600098</td>\n",
              "      <td>-0.000795</td>\n",
              "      <td>64.700195</td>\n",
              "      <td>5638.579980</td>\n",
              "      <td>5649.754303</td>\n",
              "      <td>-1</td>\n",
              "      <td>0.008630</td>\n",
              "    </tr>\n",
              "    <tr>\n",
              "      <th>2010-10-11</th>\n",
              "      <td>5657.600098</td>\n",
              "      <td>5686.000000</td>\n",
              "      <td>5655.700195</td>\n",
              "      <td>5672.399902</td>\n",
              "      <td>0.002613</td>\n",
              "      <td>116.399902</td>\n",
              "      <td>5661.859961</td>\n",
              "      <td>5657.772099</td>\n",
              "      <td>1</td>\n",
              "      <td>0.007095</td>\n",
              "    </tr>\n",
              "    <tr>\n",
              "      <th>2010-10-12</th>\n",
              "      <td>5672.399902</td>\n",
              "      <td>5677.000000</td>\n",
              "      <td>5597.500000</td>\n",
              "      <td>5661.600098</td>\n",
              "      <td>-0.001906</td>\n",
              "      <td>25.800293</td>\n",
              "      <td>5667.020020</td>\n",
              "      <td>5659.099908</td>\n",
              "      <td>-1</td>\n",
              "      <td>0.004567</td>\n",
              "    </tr>\n",
              "    <tr>\n",
              "      <th>2010-10-13</th>\n",
              "      <td>5661.600098</td>\n",
              "      <td>5760.500000</td>\n",
              "      <td>5661.600098</td>\n",
              "      <td>5747.399902</td>\n",
              "      <td>0.015041</td>\n",
              "      <td>66.000000</td>\n",
              "      <td>5680.220020</td>\n",
              "      <td>5689.319315</td>\n",
              "      <td>1</td>\n",
              "      <td>0.007454</td>\n",
              "    </tr>\n",
              "    <tr>\n",
              "      <th>2010-10-14</th>\n",
              "      <td>5747.399902</td>\n",
              "      <td>5770.899902</td>\n",
              "      <td>5712.899902</td>\n",
              "      <td>5727.200195</td>\n",
              "      <td>-0.003521</td>\n",
              "      <td>65.100098</td>\n",
              "      <td>5693.240039</td>\n",
              "      <td>5702.169110</td>\n",
              "      <td>-1</td>\n",
              "      <td>0.007476</td>\n",
              "    </tr>\n",
              "  </tbody>\n",
              "</table>\n",
              "</div>"
            ],
            "text/plain": [
              "                   open         high  ...  return_sign       std\n",
              "Date                                  ...                       \n",
              "2010-10-08  5662.100098  5663.700195  ...           -1  0.008630\n",
              "2010-10-11  5657.600098  5686.000000  ...            1  0.007095\n",
              "2010-10-12  5672.399902  5677.000000  ...           -1  0.004567\n",
              "2010-10-13  5661.600098  5760.500000  ...            1  0.007454\n",
              "2010-10-14  5747.399902  5770.899902  ...           -1  0.007476\n",
              "\n",
              "[5 rows x 10 columns]"
            ]
          },
          "metadata": {
            "tags": []
          },
          "execution_count": 4
        }
      ]
    },
    {
      "cell_type": "markdown",
      "metadata": {
        "id": "1metTMeOirJd",
        "colab_type": "text"
      },
      "source": [
        "## Split the dataset\n",
        "\n",
        "Split dataset into $X$ and $y$"
      ]
    },
    {
      "cell_type": "code",
      "metadata": {
        "id": "l5SxQ4e4ePLU",
        "colab_type": "code",
        "outputId": "d2a29273-2170-43a9-fd86-83c14f2cbd34",
        "colab": {
          "base_uri": "https://localhost:8080/",
          "height": 51
        }
      },
      "source": [
        "cols = [c for c in df.columns if c != \"return_sign\"]\n",
        "label = \"return_sign\"\n",
        "print(cols)\n",
        "label"
      ],
      "execution_count": 0,
      "outputs": [
        {
          "output_type": "stream",
          "text": [
            "['open', 'high', 'low', 'close', 'return', 'momentum', 'SMA', 'EMA', 'std']\n"
          ],
          "name": "stdout"
        },
        {
          "output_type": "execute_result",
          "data": {
            "text/plain": [
              "'return_sign'"
            ]
          },
          "metadata": {
            "tags": []
          },
          "execution_count": 5
        }
      ]
    },
    {
      "cell_type": "code",
      "metadata": {
        "id": "JkbgtM6bjeQm",
        "colab_type": "code",
        "colab": {}
      },
      "source": [
        "X = df[cols]\n",
        "orig_column_names = X.columns\n",
        "y = df[label]"
      ],
      "execution_count": 0,
      "outputs": []
    },
    {
      "cell_type": "markdown",
      "metadata": {
        "id": "ZmK2-9hxoIan",
        "colab_type": "text"
      },
      "source": [
        "### Scale your dataset"
      ]
    },
    {
      "cell_type": "code",
      "metadata": {
        "id": "93tOffSUoHlo",
        "colab_type": "code",
        "outputId": "13bbbda6-3a2e-4469-d9e0-f2959e9b8425",
        "colab": {
          "base_uri": "https://localhost:8080/",
          "height": 238
        }
      },
      "source": [
        "from sklearn.preprocessing import scale\n",
        "\n",
        "X = scale(X)\n",
        "X"
      ],
      "execution_count": 0,
      "outputs": [
        {
          "output_type": "execute_result",
          "data": {
            "text/plain": [
              "array([[-1.23944342, -1.31546652, -1.25408067, ..., -1.28455326,\n",
              "        -1.26714383,  0.07065808],\n",
              "       [-1.24729762, -1.27612693, -1.16944629, ..., -1.24373803,\n",
              "        -1.25306264, -0.23789512],\n",
              "       [-1.22146638, -1.29200403, -1.2697666 , ..., -1.23469125,\n",
              "        -1.25073069, -0.74624201],\n",
              "       ...,\n",
              "       [ 1.59435177,  1.61968014,  1.64020242, ...,  1.61953664,\n",
              "         1.62714452, -0.90867131],\n",
              "       [ 1.64287293,  1.61227048,  1.64726896, ...,  1.64018969,\n",
              "         1.64180617, -0.95129061],\n",
              "       [ 1.6591046 ,  1.71706004,  1.70208347, ...,  1.6619998 ,\n",
              "         1.6808513 , -0.92400393]])"
            ]
          },
          "metadata": {
            "tags": []
          },
          "execution_count": 7
        }
      ]
    },
    {
      "cell_type": "markdown",
      "metadata": {
        "id": "orFnPxgMj0vc",
        "colab_type": "text"
      },
      "source": [
        "### Split further"
      ]
    },
    {
      "cell_type": "code",
      "metadata": {
        "id": "l6U0Ct8cjvR4",
        "colab_type": "code",
        "colab": {}
      },
      "source": [
        "from sklearn.model_selection import train_test_split\n",
        "\n",
        "X_train, X_test, y_train, y_test = train_test_split(X, y, test_size = 0.3)"
      ],
      "execution_count": 0,
      "outputs": []
    },
    {
      "cell_type": "markdown",
      "metadata": {
        "id": "MbaOGQYrlZb6",
        "colab_type": "text"
      },
      "source": [
        "### A.1 Logistic Regression and Bayesian Classifier\n",
        "\n",
        "### First fit with L1 cost function\n",
        "\n",
        "\n",
        "$log(\\frac{p(X)}{1 - p(X)}) = \\beta_0 + \\beta_1$\n",
        "\n",
        "```\n",
        "# This is formatted as code\n",
        "```\n",
        "\n"
      ]
    },
    {
      "cell_type": "markdown",
      "metadata": {
        "id": "gxQqHudqnPpL",
        "colab_type": "text"
      },
      "source": [
        "## Score the model"
      ]
    },
    {
      "cell_type": "code",
      "metadata": {
        "id": "gD1h4pMmlGxE",
        "colab_type": "code",
        "colab": {}
      },
      "source": [
        "from sklearn.linear_model import LogisticRegression\n",
        "\n",
        "l1_clf = LogisticRegression(solver = \"liblinear\", penalty = 'l1')\n",
        "model_l1 = l1_clf.fit(X_train, y_train)"
      ],
      "execution_count": 0,
      "outputs": []
    },
    {
      "cell_type": "code",
      "metadata": {
        "id": "CpeYcqq7l5f9",
        "colab_type": "code",
        "colab": {}
      },
      "source": [
        "model_l1.score(X_test, y_test)\n",
        "\n",
        "l1_w = l1_clf.coef_"
      ],
      "execution_count": 0,
      "outputs": []
    },
    {
      "cell_type": "markdown",
      "metadata": {
        "id": "tiPHhDCCniFz",
        "colab_type": "text"
      },
      "source": [
        "### Now, fit with L2"
      ]
    },
    {
      "cell_type": "code",
      "metadata": {
        "id": "Kq6dGLIinXAo",
        "colab_type": "code",
        "colab": {}
      },
      "source": [
        "l2_clf = LogisticRegression(solver = \"liblinear\", penalty = \"l2\")\n",
        "model_l2 = l2_clf.fit(X_train, y_train)"
      ],
      "execution_count": 0,
      "outputs": []
    },
    {
      "cell_type": "code",
      "metadata": {
        "id": "kjkLBOq8nwvC",
        "colab_type": "code",
        "outputId": "dc9f6f4d-abcb-4754-f7b2-460e81655aa1",
        "colab": {
          "base_uri": "https://localhost:8080/",
          "height": 34
        }
      },
      "source": [
        "model_l2.score(X_test, y_test)"
      ],
      "execution_count": 0,
      "outputs": [
        {
          "output_type": "execute_result",
          "data": {
            "text/plain": [
              "0.9848197343453511"
            ]
          },
          "metadata": {
            "tags": []
          },
          "execution_count": 12
        }
      ]
    },
    {
      "cell_type": "code",
      "metadata": {
        "id": "iUZ-Zk0krpAj",
        "colab_type": "code",
        "colab": {}
      },
      "source": [
        "from sklearn.linear_model import LogisticRegression\n",
        "\n",
        "l2_clf = LogisticRegression()\n",
        "model_l2 = l1_clf.fit(X_train, y_train)"
      ],
      "execution_count": 0,
      "outputs": []
    },
    {
      "cell_type": "code",
      "metadata": {
        "id": "MpFmk4j9rs4P",
        "colab_type": "code",
        "colab": {}
      },
      "source": [
        "l2_w = model_l2.coef_"
      ],
      "execution_count": 0,
      "outputs": []
    },
    {
      "cell_type": "markdown",
      "metadata": {
        "id": "3XP7qubeoMwg",
        "colab_type": "text"
      },
      "source": [
        "### Compare the weights between L1 and L2"
      ]
    },
    {
      "cell_type": "code",
      "metadata": {
        "id": "UPg2Swptr2ff",
        "colab_type": "code",
        "outputId": "af7a3c9e-2cc5-42e5-a8b3-eaa58cc8c0a3",
        "colab": {
          "base_uri": "https://localhost:8080/",
          "height": 97
        }
      },
      "source": [
        "l1_w_df = pd.DataFrame(l1_w)\n",
        "l1_w_df.columns = orig_column_names\n",
        "print(\"L1 Logit Weights\")\n",
        "l1_w_df"
      ],
      "execution_count": 0,
      "outputs": [
        {
          "output_type": "stream",
          "text": [
            "L1 Logit Weights\n"
          ],
          "name": "stdout"
        },
        {
          "output_type": "execute_result",
          "data": {
            "text/html": [
              "<div>\n",
              "<style scoped>\n",
              "    .dataframe tbody tr th:only-of-type {\n",
              "        vertical-align: middle;\n",
              "    }\n",
              "\n",
              "    .dataframe tbody tr th {\n",
              "        vertical-align: top;\n",
              "    }\n",
              "\n",
              "    .dataframe thead th {\n",
              "        text-align: right;\n",
              "    }\n",
              "</style>\n",
              "<table border=\"1\" class=\"dataframe\">\n",
              "  <thead>\n",
              "    <tr style=\"text-align: right;\">\n",
              "      <th></th>\n",
              "      <th>open</th>\n",
              "      <th>high</th>\n",
              "      <th>low</th>\n",
              "      <th>close</th>\n",
              "      <th>return</th>\n",
              "      <th>momentum</th>\n",
              "      <th>SMA</th>\n",
              "      <th>EMA</th>\n",
              "      <th>std</th>\n",
              "    </tr>\n",
              "  </thead>\n",
              "  <tbody>\n",
              "    <tr>\n",
              "      <th>0</th>\n",
              "      <td>0.0</td>\n",
              "      <td>0.0</td>\n",
              "      <td>0.0</td>\n",
              "      <td>0.0</td>\n",
              "      <td>33.53348</td>\n",
              "      <td>0.321779</td>\n",
              "      <td>0.0</td>\n",
              "      <td>0.0</td>\n",
              "      <td>0.0</td>\n",
              "    </tr>\n",
              "  </tbody>\n",
              "</table>\n",
              "</div>"
            ],
            "text/plain": [
              "   open  high  low  close    return  momentum  SMA  EMA  std\n",
              "0   0.0   0.0  0.0    0.0  33.53348  0.321779  0.0  0.0  0.0"
            ]
          },
          "metadata": {
            "tags": []
          },
          "execution_count": 15
        }
      ]
    },
    {
      "cell_type": "code",
      "metadata": {
        "id": "Kj3WvFAxskVe",
        "colab_type": "code",
        "outputId": "422769e8-a5cb-46d5-d881-5767715fa8b1",
        "colab": {
          "base_uri": "https://localhost:8080/",
          "height": 97
        }
      },
      "source": [
        "l2_w_df = pd.DataFrame(l2_w)\n",
        "l2_w_df.columns = orig_column_names\n",
        "print(\"L2 Logit Weights\")\n",
        "l2_w_df"
      ],
      "execution_count": 0,
      "outputs": [
        {
          "output_type": "stream",
          "text": [
            "L2 Logit Weights\n"
          ],
          "name": "stdout"
        },
        {
          "output_type": "execute_result",
          "data": {
            "text/html": [
              "<div>\n",
              "<style scoped>\n",
              "    .dataframe tbody tr th:only-of-type {\n",
              "        vertical-align: middle;\n",
              "    }\n",
              "\n",
              "    .dataframe tbody tr th {\n",
              "        vertical-align: top;\n",
              "    }\n",
              "\n",
              "    .dataframe thead th {\n",
              "        text-align: right;\n",
              "    }\n",
              "</style>\n",
              "<table border=\"1\" class=\"dataframe\">\n",
              "  <thead>\n",
              "    <tr style=\"text-align: right;\">\n",
              "      <th></th>\n",
              "      <th>open</th>\n",
              "      <th>high</th>\n",
              "      <th>low</th>\n",
              "      <th>close</th>\n",
              "      <th>return</th>\n",
              "      <th>momentum</th>\n",
              "      <th>SMA</th>\n",
              "      <th>EMA</th>\n",
              "      <th>std</th>\n",
              "    </tr>\n",
              "  </thead>\n",
              "  <tbody>\n",
              "    <tr>\n",
              "      <th>0</th>\n",
              "      <td>0.0</td>\n",
              "      <td>0.0</td>\n",
              "      <td>0.0</td>\n",
              "      <td>0.0</td>\n",
              "      <td>33.531392</td>\n",
              "      <td>0.321956</td>\n",
              "      <td>0.0</td>\n",
              "      <td>0.0</td>\n",
              "      <td>0.0</td>\n",
              "    </tr>\n",
              "  </tbody>\n",
              "</table>\n",
              "</div>"
            ],
            "text/plain": [
              "   open  high  low  close     return  momentum  SMA  EMA  std\n",
              "0   0.0   0.0  0.0    0.0  33.531392  0.321956  0.0  0.0  0.0"
            ]
          },
          "metadata": {
            "tags": []
          },
          "execution_count": 16
        }
      ]
    },
    {
      "cell_type": "markdown",
      "metadata": {
        "id": "I_Y8aK_1swm8",
        "colab_type": "text"
      },
      "source": [
        "Some of the features where given 0 weight, i.e redundant because both Lasso and Ridge regression penalize excessive use of weights. This also helps us reduce Bias.\n",
        "\n",
        "What was left where weights that were almost equal to each other"
      ]
    },
    {
      "cell_type": "code",
      "metadata": {
        "id": "RWvCPtwxFF5S",
        "colab_type": "code",
        "outputId": "3ac271b5-c356-45de-b32b-f99134a5d9c4",
        "colab": {
          "base_uri": "https://localhost:8080/",
          "height": 34
        }
      },
      "source": [
        "from sklearn.model_selection import KFold, cross_val_score, cross_val_predict\n",
        "\n",
        "kf = KFold(shuffle = True)\n",
        "\n",
        "l1_logReg = LogisticRegression(solver = \"liblinear\", penalty = \"l1\")\n",
        "\n",
        "results = cross_val_score(l1_logReg, X_train, y_train, cv=kf)\n",
        "l1_pred = cross_val_predict(l1_logReg, X_test, y_test, cv = kf)\n",
        "results"
      ],
      "execution_count": 0,
      "outputs": [
        {
          "output_type": "execute_result",
          "data": {
            "text/plain": [
              "array([1.        , 0.99593496, 1.        , 0.99593496, 0.99591837])"
            ]
          },
          "metadata": {
            "tags": []
          },
          "execution_count": 17
        }
      ]
    },
    {
      "cell_type": "code",
      "metadata": {
        "id": "mYu85BbyrFW6",
        "colab_type": "code",
        "colab": {}
      },
      "source": [
        ""
      ],
      "execution_count": 0,
      "outputs": []
    },
    {
      "cell_type": "markdown",
      "metadata": {
        "id": "yYFCuSmZamK_",
        "colab_type": "text"
      },
      "source": [
        "### B1. Confusion Matrix and ROC Curve"
      ]
    },
    {
      "cell_type": "code",
      "metadata": {
        "id": "TNFBIXBrRWVR",
        "colab_type": "code",
        "outputId": "987258c5-4f9c-43b6-f106-57fc65657340",
        "colab": {
          "base_uri": "https://localhost:8080/",
          "height": 51
        }
      },
      "source": [
        "from sklearn.metrics import confusion_matrix\n",
        "\n",
        "l1_cm = confusion_matrix(y_test, l1_pred)\n",
        "l1_cm"
      ],
      "execution_count": 0,
      "outputs": [
        {
          "output_type": "execute_result",
          "data": {
            "text/plain": [
              "array([[247,   2],\n",
              "       [  4, 274]])"
            ]
          },
          "metadata": {
            "tags": []
          },
          "execution_count": 18
        }
      ]
    },
    {
      "cell_type": "code",
      "metadata": {
        "id": "S6dk8JPkU1ik",
        "colab_type": "code",
        "colab": {}
      },
      "source": [
        "from sklearn.metrics import roc_auc_score, roc_curve\n",
        "\n",
        "l1_ROC_auc = roc_auc_score(y_test, l1_pred)\n",
        "fpr, tpr, threshold = roc_curve(y_test, l1_pred)"
      ],
      "execution_count": 0,
      "outputs": []
    },
    {
      "cell_type": "code",
      "metadata": {
        "id": "RGB821gzVdvv",
        "colab_type": "code",
        "outputId": "7c126376-0721-4ee0-e10c-c68728984248",
        "colab": {
          "base_uri": "https://localhost:8080/",
          "height": 265
        }
      },
      "source": [
        "plt.figure()\n",
        "plt.plot(fpr, tpr, label = \"Logitistic Regression (l1) {}\".format(l1_ROC_auc))\n",
        "plt.show()"
      ],
      "execution_count": 0,
      "outputs": [
        {
          "output_type": "display_data",
          "data": {
            "image/png": "[encoded data removed]",
            "text/plain": [
              "<Figure size 432x288 with 1 Axes>"
            ]
          },
          "metadata": {
            "tags": [],
            "needs_background": "light"
          }
        }
      ]
    },
    {
      "cell_type": "code",
      "metadata": {
        "id": "oPzS9oTyG_rR",
        "colab_type": "code",
        "outputId": "5377813c-56f9-48b5-d08f-90a5a05852e2",
        "colab": {
          "base_uri": "https://localhost:8080/",
          "height": 34
        }
      },
      "source": [
        "from sklearn.model_selection import KFold, cross_val_score\n",
        "\n",
        "kf = KFold(shuffle = True)\n",
        "\n",
        "l1_logReg = LogisticRegression(penalty = \"l2\")\n",
        "\n",
        "results = cross_val_score(l1_logReg, X_train, y_train, cv=kf)\n",
        "results"
      ],
      "execution_count": 0,
      "outputs": [
        {
          "output_type": "execute_result",
          "data": {
            "text/plain": [
              "array([0.9796748 , 0.99593496, 0.99186992, 0.99186992, 0.99591837])"
            ]
          },
          "metadata": {
            "tags": []
          },
          "execution_count": 21
        }
      ]
    },
    {
      "cell_type": "code",
      "metadata": {
        "id": "4dT-pBZCHV1A",
        "colab_type": "code",
        "outputId": "77418f89-3839-4623-eefb-107b2b5bf8af",
        "colab": {
          "base_uri": "https://localhost:8080/",
          "height": 34
        }
      },
      "source": [
        "from sklearn.model_selection import ShuffleSplit, cross_val_score\n",
        "\n",
        "ss = ShuffleSplit(n_splits = 5, random_state=0)\n",
        "\n",
        "l1_logReg = LogisticRegression(solver = \"liblinear\", penalty = \"l1\")\n",
        "\n",
        "results = cross_val_score(l1_logReg, X_train, y_train, cv=ss)\n",
        "results"
      ],
      "execution_count": 0,
      "outputs": [
        {
          "output_type": "execute_result",
          "data": {
            "text/plain": [
              "array([1., 1., 1., 1., 1.])"
            ]
          },
          "metadata": {
            "tags": []
          },
          "execution_count": 22
        }
      ]
    },
    {
      "cell_type": "code",
      "metadata": {
        "id": "nQOIRMrKHtqg",
        "colab_type": "code",
        "outputId": "e7ace923-8d47-453f-bd75-38209d1dfe7f",
        "colab": {
          "base_uri": "https://localhost:8080/",
          "height": 34
        }
      },
      "source": [
        "from sklearn.model_selection import KFold, cross_val_score\n",
        "\n",
        "kf = KFold(shuffle = True)\n",
        "\n",
        "l2_logReg = LogisticRegression()\n",
        "\n",
        "results = cross_val_score(l2_logReg, X_train, y_train, cv=kf)\n",
        "l2_pred = cross_val_predict(l2_logReg, X_test, y_test, cv = kf)\n",
        "\n",
        "results"
      ],
      "execution_count": 0,
      "outputs": [
        {
          "output_type": "execute_result",
          "data": {
            "text/plain": [
              "array([1.        , 0.98780488, 0.98780488, 0.99186992, 0.9877551 ])"
            ]
          },
          "metadata": {
            "tags": []
          },
          "execution_count": 23
        }
      ]
    },
    {
      "cell_type": "markdown",
      "metadata": {
        "id": "bfDuZNeyar6m",
        "colab_type": "text"
      },
      "source": [
        "### B1. Confusion Matrix and ROC Curve"
      ]
    },
    {
      "cell_type": "code",
      "metadata": {
        "id": "Q6abtHB1WPYK",
        "colab_type": "code",
        "outputId": "5b51fd5f-f98f-4adb-84f3-a3000be1a819",
        "colab": {
          "base_uri": "https://localhost:8080/",
          "height": 51
        }
      },
      "source": [
        "from sklearn.metrics import confusion_matrix\n",
        "\n",
        "l2_cm = confusion_matrix(y_test, l2_pred)\n",
        "l2_cm"
      ],
      "execution_count": 0,
      "outputs": [
        {
          "output_type": "execute_result",
          "data": {
            "text/plain": [
              "array([[239,  10],\n",
              "       [  2, 276]])"
            ]
          },
          "metadata": {
            "tags": []
          },
          "execution_count": 24
        }
      ]
    },
    {
      "cell_type": "code",
      "metadata": {
        "id": "ewLy3-mwW7U3",
        "colab_type": "code",
        "colab": {}
      },
      "source": [
        "from sklearn.metrics import roc_auc_score, roc_curve\n",
        "\n",
        "l2_ROC_auc = roc_auc_score(y_test, l2_pred)\n",
        "fpr, tpr, threshold = roc_curve(y_test, l2_pred)"
      ],
      "execution_count": 0,
      "outputs": []
    },
    {
      "cell_type": "code",
      "metadata": {
        "id": "gRBMLm3mXDwf",
        "colab_type": "code",
        "outputId": "1d9228dc-bdea-44ea-8466-6a492b1ed839",
        "colab": {
          "base_uri": "https://localhost:8080/",
          "height": 265
        }
      },
      "source": [
        "plt.figure()\n",
        "plt.plot(fpr, tpr, label = \"Logitistic Regression (l1) {}\".format(l1_ROC_auc))\n",
        "plt.show()"
      ],
      "execution_count": 0,
      "outputs": [
        {
          "output_type": "display_data",
          "data": {
            "image/png": "[encoded data removed]",
            "text/plain": [
              "<Figure size 432x288 with 1 Axes>"
            ]
          },
          "metadata": {
            "tags": [],
            "needs_background": "light"
          }
        }
      ]
    },
    {
      "cell_type": "markdown",
      "metadata": {
        "id": "3Gj8k3A6FMoe",
        "colab_type": "text"
      },
      "source": [
        "### Naive Bayes Classifier\n",
        "\n",
        "#### Here we use:\n",
        "\n",
        "$𝑃𝑟(𝑌=1|𝑋)=\\frac{𝑃𝑟(𝑋|𝑌=1)𝑃𝑟(𝑌=1)}{𝑃𝑟(𝑋)}$"
      ]
    },
    {
      "cell_type": "code",
      "metadata": {
        "id": "UldGvCrwFUGZ",
        "colab_type": "code",
        "outputId": "fdd2a541-0a49-4b05-9d5f-ecf6c3a064b2",
        "colab": {
          "base_uri": "https://localhost:8080/",
          "height": 88
        }
      },
      "source": [
        "from sklearn.naive_bayes import GaussianNB\n",
        "\n",
        "kf = KFold(random_state=0)\n",
        "\n",
        "nb_clf = GaussianNB()\n",
        "\n",
        "results = cross_val_score(nb_clf, X_train, y_train, cv = kf)\n",
        "results\n",
        "results.mean()"
      ],
      "execution_count": 0,
      "outputs": [
        {
          "output_type": "stream",
          "text": [
            "/usr/local/lib/python3.6/dist-packages/sklearn/model_selection/_split.py:296: FutureWarning: Setting a random_state has no effect since shuffle is False. This will raise an error in 0.24. You should leave random_state to its default (None), or set shuffle=True.\n",
            "  FutureWarning\n"
          ],
          "name": "stderr"
        },
        {
          "output_type": "execute_result",
          "data": {
            "text/plain": [
              "0.9226945412311267"
            ]
          },
          "metadata": {
            "tags": []
          },
          "execution_count": 27
        }
      ]
    },
    {
      "cell_type": "code",
      "metadata": {
        "id": "1ILDS68hF73Z",
        "colab_type": "code",
        "outputId": "b6240235-b17b-4c79-8b1a-c6c69a32407b",
        "colab": {
          "base_uri": "https://localhost:8080/",
          "height": 88
        }
      },
      "source": [
        "from sklearn.naive_bayes import GaussianNB\n",
        "\n",
        "kf = KFold(n_splits = 5, random_state=0)\n",
        "\n",
        "nb_clf = GaussianNB()\n",
        "\n",
        "results = cross_val_score(nb_clf, X_train, y_train, cv = kf)\n",
        "nb_pred = cross_val_predict(nb_clf, X_test, y_test, cv = kf)\n",
        "results\n",
        "results.mean()"
      ],
      "execution_count": 0,
      "outputs": [
        {
          "output_type": "stream",
          "text": [
            "/usr/local/lib/python3.6/dist-packages/sklearn/model_selection/_split.py:296: FutureWarning: Setting a random_state has no effect since shuffle is False. This will raise an error in 0.24. You should leave random_state to its default (None), or set shuffle=True.\n",
            "  FutureWarning\n"
          ],
          "name": "stderr"
        },
        {
          "output_type": "execute_result",
          "data": {
            "text/plain": [
              "0.9226945412311267"
            ]
          },
          "metadata": {
            "tags": []
          },
          "execution_count": 28
        }
      ]
    },
    {
      "cell_type": "markdown",
      "metadata": {
        "id": "QNu64XxNavHk",
        "colab_type": "text"
      },
      "source": [
        "### B1. Confusion Matrix and ROC Curve"
      ]
    },
    {
      "cell_type": "code",
      "metadata": {
        "id": "h-gQcUpjY3dO",
        "colab_type": "code",
        "outputId": "52257523-77f6-4ad1-bb3f-f3e9ad9e93bd",
        "colab": {
          "base_uri": "https://localhost:8080/",
          "height": 51
        }
      },
      "source": [
        "from sklearn.metrics import confusion_matrix\n",
        "\n",
        "nb_cm = confusion_matrix(y_test, nb_pred)\n",
        "nb_cm"
      ],
      "execution_count": 0,
      "outputs": [
        {
          "output_type": "execute_result",
          "data": {
            "text/plain": [
              "array([[217,  32],\n",
              "       [ 20, 258]])"
            ]
          },
          "metadata": {
            "tags": []
          },
          "execution_count": 29
        }
      ]
    },
    {
      "cell_type": "code",
      "metadata": {
        "id": "kw5zODjnZN9i",
        "colab_type": "code",
        "outputId": "a34eeabe-1907-42fc-a4dd-e6114a907ec4",
        "colab": {
          "base_uri": "https://localhost:8080/",
          "height": 265
        }
      },
      "source": [
        "from sklearn.metrics import roc_auc_score, roc_curve\n",
        "\n",
        "nb_ROC_auc = roc_auc_score(y_test, nb_pred)\n",
        "fpr, tpr, threshold = roc_curve(y_test, nb_pred)\n",
        "\n",
        "plt.figure()\n",
        "plt.plot(fpr, tpr, label = \"Logitistic Regression (l1) {}\".format(l1_ROC_auc))\n",
        "plt.show()"
      ],
      "execution_count": 0,
      "outputs": [
        {
          "output_type": "display_data",
          "data": {
            "image/png": "[encoded data removed]",
            "text/plain": [
              "<Figure size 432x288 with 1 Axes>"
            ]
          },
          "metadata": {
            "tags": [],
            "needs_background": "light"
          }
        }
      ]
    },
    {
      "cell_type": "markdown",
      "metadata": {
        "id": "ragvvnor24tz",
        "colab_type": "text"
      },
      "source": [
        "### A2. Support Vector Machines\n",
        "### Use Support Vector Classifier\n",
        "\n",
        "First we will rewrite our equation for the hyperplane as:\n",
        "$𝐰⋅𝐱+𝑏=0$\n",
        " \n",
        "For an observation  𝐱𝑖  with label  𝑦𝑖 , the distance to the hyperplane is:\n",
        "$𝐷_𝑖=𝐰||𝐰||⋅𝐱𝑖+𝑏||𝐰||$\n",
        " \n",
        "The margin is the distance to the closest observation:\n",
        "$𝑀=min_𝑖𝐷_𝑖$"
      ]
    },
    {
      "cell_type": "code",
      "metadata": {
        "id": "x8tgmHACIHIO",
        "colab_type": "code",
        "outputId": "f96abdf1-b5ac-4945-b91d-05e5083e913b",
        "colab": {
          "base_uri": "https://localhost:8080/",
          "height": 34
        }
      },
      "source": [
        "from sklearn.svm import SVC\n",
        "\n",
        "\n",
        "svc_soft = SVC(kernel='linear', C=0.1)\n",
        "\n",
        "svc_soft.fit(X_train, y_train)\n",
        "svc_soft.score(X_test, y_test)"
      ],
      "execution_count": 0,
      "outputs": [
        {
          "output_type": "execute_result",
          "data": {
            "text/plain": [
              "0.9772296015180265"
            ]
          },
          "metadata": {
            "tags": []
          },
          "execution_count": 31
        }
      ]
    },
    {
      "cell_type": "code",
      "metadata": {
        "id": "Bi3-Bjlhl0E9",
        "colab_type": "code",
        "outputId": "6cba6909-fc2f-4927-8122-cbd4f57b2955",
        "colab": {
          "base_uri": "https://localhost:8080/",
          "height": 34
        }
      },
      "source": [
        "from sklearn.svm import SVC\n",
        "from sklearn.model_selection import KFold, cross_val_score, cross_val_predict\n",
        "\n",
        "kf = KFold(shuffle = True)\n",
        "\n",
        "svc_soft = SVC(kernel='linear', C = 0.1)\n",
        "\n",
        "results = cross_val_score(svc_soft, X_train, y_train, cv=kf)\n",
        "soft_pred = cross_val_predict(svc_soft, X_test, y_test, cv = kf)\n",
        "results"
      ],
      "execution_count": 0,
      "outputs": [
        {
          "output_type": "execute_result",
          "data": {
            "text/plain": [
              "array([0.98780488, 0.99186992, 0.96341463, 0.98780488, 0.98367347])"
            ]
          },
          "metadata": {
            "tags": []
          },
          "execution_count": 32
        }
      ]
    },
    {
      "cell_type": "markdown",
      "metadata": {
        "id": "flSXYZk3axg1",
        "colab_type": "text"
      },
      "source": [
        "### B1. Confusion Matrix and ROC Curve"
      ]
    },
    {
      "cell_type": "code",
      "metadata": {
        "id": "KH9S6DckdNQE",
        "colab_type": "code",
        "outputId": "5e0868d8-2841-41b0-bf9d-22019d6e6fde",
        "colab": {
          "base_uri": "https://localhost:8080/",
          "height": 51
        }
      },
      "source": [
        "from sklearn.metrics import confusion_matrix\n",
        "\n",
        "soft_cm = confusion_matrix(y_test, soft_pred)\n",
        "soft_cm"
      ],
      "execution_count": 0,
      "outputs": [
        {
          "output_type": "execute_result",
          "data": {
            "text/plain": [
              "array([[231,  18],\n",
              "       [  2, 276]])"
            ]
          },
          "metadata": {
            "tags": []
          },
          "execution_count": 33
        }
      ]
    },
    {
      "cell_type": "code",
      "metadata": {
        "id": "YjU0ae2Va4XX",
        "colab_type": "code",
        "outputId": "1adab0da-e7d4-4b6b-a5aa-4846755a7540",
        "colab": {
          "base_uri": "https://localhost:8080/",
          "height": 265
        }
      },
      "source": [
        "from sklearn.metrics import roc_auc_score, roc_curve\n",
        "\n",
        "soft_ROC_auc = roc_auc_score(y_test, soft_pred)\n",
        "fpr, tpr, threshold = roc_curve(y_test, soft_pred)\n",
        "\n",
        "plt.figure()\n",
        "plt.plot(fpr, tpr, label = \"Logitistic Regression (l1) {}\".format(soft_ROC_auc))\n",
        "plt.show()"
      ],
      "execution_count": 0,
      "outputs": [
        {
          "output_type": "display_data",
          "data": {
            "image/png": "[encoded data removed]",
            "text/plain": [
              "<Figure size 432x288 with 1 Axes>"
            ]
          },
          "metadata": {
            "tags": [],
            "needs_background": "light"
          }
        }
      ]
    },
    {
      "cell_type": "code",
      "metadata": {
        "id": "x5VIUtEOpVJ2",
        "colab_type": "code",
        "outputId": "4373fb74-897c-4239-8a99-a27e909f9448",
        "colab": {
          "base_uri": "https://localhost:8080/",
          "height": 34
        }
      },
      "source": [
        "from sklearn.svm import SVC\n",
        "from sklearn.model_selection import KFold, cross_val_score\n",
        "\n",
        "kf = KFold(shuffle = True)\n",
        "\n",
        "svc_hard = SVC(kernel='linear', C = 1E10)\n",
        "\n",
        "results = cross_val_score(svc_hard, X_train, y_train, cv=kf)\n",
        "hard_pred = cross_val_predict(svc_hard, X_test, y_test, cv = kf)\n",
        "results"
      ],
      "execution_count": 0,
      "outputs": [
        {
          "output_type": "execute_result",
          "data": {
            "text/plain": [
              "array([0.99593496, 1.        , 0.99593496, 0.99186992, 0.98367347])"
            ]
          },
          "metadata": {
            "tags": []
          },
          "execution_count": 35
        }
      ]
    },
    {
      "cell_type": "markdown",
      "metadata": {
        "id": "6uQ1Wnb_a0t8",
        "colab_type": "text"
      },
      "source": [
        "### B1. Confusion Matrix and ROC Curve"
      ]
    },
    {
      "cell_type": "code",
      "metadata": {
        "id": "e4qp_Whndmc1",
        "colab_type": "code",
        "outputId": "aeee5c38-3d7a-4843-ca7a-b50dd94e40a5",
        "colab": {
          "base_uri": "https://localhost:8080/",
          "height": 51
        }
      },
      "source": [
        "from sklearn.metrics import confusion_matrix\n",
        "\n",
        "hard_cm = confusion_matrix(y_test, hard_pred)\n",
        "hard_cm"
      ],
      "execution_count": 0,
      "outputs": [
        {
          "output_type": "execute_result",
          "data": {
            "text/plain": [
              "array([[246,   3],\n",
              "       [  4, 274]])"
            ]
          },
          "metadata": {
            "tags": []
          },
          "execution_count": 36
        }
      ]
    },
    {
      "cell_type": "code",
      "metadata": {
        "id": "2qZPPCgdbFXI",
        "colab_type": "code",
        "outputId": "edb486f2-7e90-4541-da99-416b12eb3d38",
        "colab": {
          "base_uri": "https://localhost:8080/",
          "height": 265
        }
      },
      "source": [
        "from sklearn.metrics import roc_auc_score, roc_curve\n",
        "\n",
        "hard_ROC_auc = roc_auc_score(y_test, hard_pred)\n",
        "fpr, tpr, threshold = roc_curve(y_test, hard_pred)\n",
        "\n",
        "plt.figure()\n",
        "plt.plot(fpr, tpr, label = \"Logitistic Regression (l1) {}\".format(hard_ROC_auc))\n",
        "plt.show()"
      ],
      "execution_count": 0,
      "outputs": [
        {
          "output_type": "display_data",
          "data": {
            "image/png": "[encoded data removed]",
            "text/plain": [
              "<Figure size 432x288 with 1 Axes>"
            ]
          },
          "metadata": {
            "tags": [],
            "needs_background": "light"
          }
        }
      ]
    },
    {
      "cell_type": "markdown",
      "metadata": {
        "id": "VXOxALW1rE24",
        "colab_type": "text"
      },
      "source": [
        "### Plot a 2D Representation"
      ]
    },
    {
      "cell_type": "code",
      "metadata": {
        "id": "_UovroQTsosD",
        "colab_type": "code",
        "colab": {}
      },
      "source": [
        "import matplotlib.pyplot as plt\n",
        "from sklearn.model_selection import cross_val_predict"
      ],
      "execution_count": 0,
      "outputs": []
    },
    {
      "cell_type": "code",
      "metadata": {
        "id": "kEV4wqOrsTHB",
        "colab_type": "code",
        "colab": {}
      },
      "source": [
        "# Get the weights\n",
        "#svc_hard.coef_"
      ],
      "execution_count": 0,
      "outputs": []
    },
    {
      "cell_type": "code",
      "metadata": {
        "id": "aMWsAuTWyIM3",
        "colab_type": "code",
        "outputId": "aee25234-3bc7-41f4-bf21-34cd75fe71e9",
        "colab": {
          "base_uri": "https://localhost:8080/",
          "height": 34
        }
      },
      "source": [
        "X_train.shape"
      ],
      "execution_count": 0,
      "outputs": [
        {
          "output_type": "execute_result",
          "data": {
            "text/plain": [
              "(1229, 9)"
            ]
          },
          "metadata": {
            "tags": []
          },
          "execution_count": 40
        }
      ]
    },
    {
      "cell_type": "markdown",
      "metadata": {
        "id": "TA_5PK1MCSzo",
        "colab_type": "text"
      },
      "source": [
        "### A3 KNN\n",
        "\n",
        "### KNN\n",
        "\n",
        "#### Here, we use:\n",
        "$𝑃𝑟(𝑌=𝑗|𝑋=𝑥0)=\\frac{1}{𝐾}\\sum_{𝑖∈𝑁_0}𝐼(𝑦_𝑖=𝑗)$"
      ]
    },
    {
      "cell_type": "code",
      "metadata": {
        "id": "wbegsdHq4Wfq",
        "colab_type": "code",
        "outputId": "cb99d63a-0eb6-4ab9-d822-8f06b076f42a",
        "colab": {
          "base_uri": "https://localhost:8080/",
          "height": 34
        }
      },
      "source": [
        "from sklearn.neighbors import KNeighborsClassifier\n",
        "from sklearn.model_selection import KFold, cross_val_score\n",
        "\n",
        "kf = KFold(n_splits = 5, shuffle = True)\n",
        "\n",
        "knn_clf = KNeighborsClassifier(n_neighbors = 5) # Default metric and p value is Euclidian distance\n",
        "\n",
        "results = cross_val_score(knn_clf, X_train, y_train, cv=kf)\n",
        "knn_euclidian_pred = cross_val_predict(knn_clf, X_test, y_test, cv = kf)\n",
        "results"
      ],
      "execution_count": 0,
      "outputs": [
        {
          "output_type": "execute_result",
          "data": {
            "text/plain": [
              "array([0.93902439, 0.93902439, 0.92682927, 0.91463415, 0.92653061])"
            ]
          },
          "metadata": {
            "tags": []
          },
          "execution_count": 41
        }
      ]
    },
    {
      "cell_type": "markdown",
      "metadata": {
        "id": "5HQK59xPa3EZ",
        "colab_type": "text"
      },
      "source": [
        "### B1. Confusion Matrix and ROC Curve"
      ]
    },
    {
      "cell_type": "code",
      "metadata": {
        "id": "C-IyMaK2duYi",
        "colab_type": "code",
        "outputId": "941e12cc-a19a-4080-cdcb-9d5c0112b959",
        "colab": {
          "base_uri": "https://localhost:8080/",
          "height": 51
        }
      },
      "source": [
        "from sklearn.metrics import confusion_matrix\n",
        "\n",
        "knn_euclidian_cm = confusion_matrix(y_test, knn_euclidian_pred)\n",
        "knn_euclidian_cm"
      ],
      "execution_count": 0,
      "outputs": [
        {
          "output_type": "execute_result",
          "data": {
            "text/plain": [
              "array([[215,  34],\n",
              "       [ 17, 261]])"
            ]
          },
          "metadata": {
            "tags": []
          },
          "execution_count": 42
        }
      ]
    },
    {
      "cell_type": "code",
      "metadata": {
        "id": "oEleiVFj7PrS",
        "colab_type": "code",
        "outputId": "da015b6d-4d3f-4e5c-e2e0-98f47aa5da6a",
        "colab": {
          "base_uri": "https://localhost:8080/",
          "height": 265
        }
      },
      "source": [
        "from sklearn.metrics import roc_auc_score, roc_curve\n",
        "\n",
        "knn_euclidian_ROC_auc = roc_auc_score(y_test, knn_euclidian_pred)\n",
        "fpr, tpr, threshold = roc_curve(y_test, knn_euclidian_pred)\n",
        "\n",
        "plt.figure()\n",
        "plt.plot(fpr, tpr, label = \"Logitistic Regression (l1) {}\".format(knn_euclidian_ROC_auc))\n",
        "plt.show()"
      ],
      "execution_count": 0,
      "outputs": [
        {
          "output_type": "display_data",
          "data": {
            "image/png": "[encoded data removed]",
            "text/plain": [
              "<Figure size 432x288 with 1 Axes>"
            ]
          },
          "metadata": {
            "tags": [],
            "needs_background": "light"
          }
        }
      ]
    },
    {
      "cell_type": "code",
      "metadata": {
        "id": "76AbmCKrB4Gw",
        "colab_type": "code",
        "outputId": "93802138-69e0-4839-ef5f-62de8807e97b",
        "colab": {
          "base_uri": "https://localhost:8080/",
          "height": 34
        }
      },
      "source": [
        "from sklearn.preprocessing import StandardScaler\n",
        "from sklearn.neighbors import KNeighborsClassifier\n",
        "from sklearn.model_selection import KFold, cross_val_score\n",
        "\n",
        "kf = KFold(n_splits = 5, shuffle = True)\n",
        "\n",
        "knn_manhattan_clf = KNeighborsClassifier(n_neighbors = 5, p = 1) # Manhattan\n",
        "\n",
        "results = cross_val_score(knn_clf, X_train, y_train, cv=kf)\n",
        "knn_manhttan_pred = cross_val_predict(knn_manhattan_clf, X_test, y_test, cv = kf)\n",
        "results"
      ],
      "execution_count": 0,
      "outputs": [
        {
          "output_type": "execute_result",
          "data": {
            "text/plain": [
              "array([0.93089431, 0.95121951, 0.91869919, 0.95934959, 0.92653061])"
            ]
          },
          "metadata": {
            "tags": []
          },
          "execution_count": 44
        }
      ]
    },
    {
      "cell_type": "markdown",
      "metadata": {
        "id": "Z6ypgJqva7KJ",
        "colab_type": "text"
      },
      "source": [
        "### B1. Confusion Matrix and ROC Curve"
      ]
    },
    {
      "cell_type": "code",
      "metadata": {
        "id": "MMPrCAk0d44B",
        "colab_type": "code",
        "outputId": "a146f4b8-8a29-4bf9-8190-d1ec0a073738",
        "colab": {
          "base_uri": "https://localhost:8080/",
          "height": 51
        }
      },
      "source": [
        "from sklearn.metrics import confusion_matrix\n",
        "\n",
        "knn_manhttan_cm = confusion_matrix(y_test, knn_manhttan_pred)\n",
        "knn_manhttan_cm"
      ],
      "execution_count": 0,
      "outputs": [
        {
          "output_type": "execute_result",
          "data": {
            "text/plain": [
              "array([[212,  37],\n",
              "       [ 17, 261]])"
            ]
          },
          "metadata": {
            "tags": []
          },
          "execution_count": 45
        }
      ]
    },
    {
      "cell_type": "code",
      "metadata": {
        "id": "_Hb2AH4zcXe7",
        "colab_type": "code",
        "outputId": "09683c1a-2be1-4b1f-c0bd-25d2f4dabf60",
        "colab": {
          "base_uri": "https://localhost:8080/",
          "height": 265
        }
      },
      "source": [
        "from sklearn.metrics import roc_auc_score, roc_curve\n",
        "\n",
        "knn_manhttan_ROC_auc = roc_auc_score(y_test, knn_manhttan_pred)\n",
        "fpr, tpr, threshold = roc_curve(y_test, knn_manhttan_pred)\n",
        "\n",
        "plt.figure()\n",
        "plt.plot(fpr, tpr, label = \"Logitistic Regression (l1) {}\".format(knn_manhttan_ROC_auc))\n",
        "plt.show()"
      ],
      "execution_count": 0,
      "outputs": [
        {
          "output_type": "display_data",
          "data": {
            "image/png": "[encoded data removed]",
            "text/plain": [
              "<Figure size 432x288 with 1 Axes>"
            ]
          },
          "metadata": {
            "tags": [],
            "needs_background": "light"
          }
        }
      ]
    },
    {
      "cell_type": "code",
      "metadata": {
        "id": "y8nvGZgbDMEU",
        "colab_type": "code",
        "outputId": "9fda79b6-bf0d-45ce-cebf-28612d285637",
        "colab": {
          "base_uri": "https://localhost:8080/",
          "height": 34
        }
      },
      "source": [
        "from sklearn.neighbors import KNeighborsClassifier\n",
        "from sklearn.model_selection import KFold, cross_val_score\n",
        "\n",
        "# kf = KFold(n_splits = 5, shuffle = True)\n",
        "\n",
        "knn_clf = KNeighborsClassifier(algorithm='brute',metric = \"mahalanobis\", metric_params={'V': np.cov(X_train)})\n",
        "#results = cross_val_score(knn_clf, X_train, y_train, cv=kf)\n",
        "knn_clf.fit(X_train, y_train)\n",
        "knn_clf.score(X_test, y_test)"
      ],
      "execution_count": 0,
      "outputs": [
        {
          "output_type": "execute_result",
          "data": {
            "text/plain": [
              "0.8975332068311196"
            ]
          },
          "metadata": {
            "tags": []
          },
          "execution_count": 47
        }
      ]
    },
    {
      "cell_type": "markdown",
      "metadata": {
        "id": "zMo5paHMa_Vq",
        "colab_type": "text"
      },
      "source": [
        "### B1. Confusion Matrix and ROC Curve"
      ]
    },
    {
      "cell_type": "code",
      "metadata": {
        "id": "HCZLexLxeEDw",
        "colab_type": "code",
        "outputId": "b3c06dd9-a009-4423-e392-e5aa7944db6f",
        "colab": {
          "base_uri": "https://localhost:8080/",
          "height": 51
        }
      },
      "source": [
        "from sklearn.metrics import confusion_matrix\n",
        "\n",
        "knn_cm = confusion_matrix(y_test, knn_clf.predict(X_test))\n",
        "knn_cm"
      ],
      "execution_count": 0,
      "outputs": [
        {
          "output_type": "execute_result",
          "data": {
            "text/plain": [
              "array([[229,  20],\n",
              "       [ 34, 244]])"
            ]
          },
          "metadata": {
            "tags": []
          },
          "execution_count": 48
        }
      ]
    },
    {
      "cell_type": "code",
      "metadata": {
        "id": "xzz-dGxgctu3",
        "colab_type": "code",
        "outputId": "9351332d-8ad0-4318-f014-bb98536e6e7a",
        "colab": {
          "base_uri": "https://localhost:8080/",
          "height": 265
        }
      },
      "source": [
        "from sklearn.metrics import roc_auc_score, roc_curve\n",
        "\n",
        "knn_ROC_auc = roc_auc_score(y_test, knn_clf.predict(X_test))\n",
        "fpr, tpr, threshold = roc_curve(y_test, knn_clf.predict(X_test))\n",
        "\n",
        "plt.figure()\n",
        "plt.plot(fpr, tpr, label = \"Logitistic Regression (l1) {}\".format(knn_ROC_auc))\n",
        "plt.show()"
      ],
      "execution_count": 0,
      "outputs": [
        {
          "output_type": "display_data",
          "data": {
            "image/png": "[encoded data removed]",
            "text/plain": [
              "<Figure size 432x288 with 1 Axes>"
            ]
          },
          "metadata": {
            "tags": [],
            "needs_background": "light"
          }
        }
      ]
    },
    {
      "cell_type": "markdown",
      "metadata": {
        "id": "UaARPRZVtnlg",
        "colab_type": "text"
      },
      "source": [
        "### B1. IMPORTANT NOTE\n",
        "\n",
        "We cannot look too far into the confusion matrix, and the ROC curves because our Variance is too high to come up with an educated guess. Trying to interpret these results will only misinform us about the general patterns this kind of index makes. In order to reduce Variance we use Ensemble methods(such as a RandomForestClassifier). This will help us Bag and Boost. More than Boosting, we need to Bag because we reduced the number of relevant features using Lasso (L1) Regression. "
      ]
    },
    {
      "cell_type": "markdown",
      "metadata": {
        "id": "1InWnUB8jfq0",
        "colab_type": "text"
      },
      "source": [
        "## B2. Feature Scoring/Selection\n",
        "### Hyperparamter Tuning\n"
      ]
    },
    {
      "cell_type": "code",
      "metadata": {
        "id": "B7fswlptdApj",
        "colab_type": "code",
        "colab": {}
      },
      "source": [
        "# Create a dicitonary of models and parameters\n",
        "models_params = {\n",
        "    'logistic_regression_l1': {\n",
        "        'model': LogisticRegression(solver = \"liblinear\", penalty = \"l1\"),\n",
        "        'params': {\n",
        "            'C': [1, 5, 10]\n",
        "          }\n",
        "    },\n",
        "    'logistic_regression_l2': {\n",
        "        'model': LogisticRegression(),\n",
        "        'params': {\n",
        "            'C': [1, 5, 10]\n",
        "          }\n",
        "    },\n",
        "    'svc': {\n",
        "        'model': SVC(gamma=\"auto\"),\n",
        "        'params': {\n",
        "            'C': [1, 10, 20],\n",
        "            'kernel': ['rbf', 'linear']\n",
        "          }\n",
        "    },\n",
        "    'knn_simple': {\n",
        "        'model': KNeighborsClassifier(),\n",
        "        'params': {\n",
        "            'p': [1, 2],\n",
        "            'n_neighbors': [5, 10]\n",
        "        }\n",
        "    },\n",
        "    'knn_mahalanobis': {\n",
        "        'model': KNeighborsClassifier(),\n",
        "        'params': {\n",
        "            'n_neighbors': [5, 10],\n",
        "            'metric': [\"mahalanobis\"],\n",
        "            \"algorithm\": [\"brute\"],\n",
        "            \"metric_params\": [{\"V\": np.cov(X_train)}]\n",
        "        }\n",
        "    }\n",
        "}"
      ],
      "execution_count": 0,
      "outputs": []
    },
    {
      "cell_type": "code",
      "metadata": {
        "id": "-mDEyvW-oOX6",
        "colab_type": "code",
        "outputId": "a627dc8c-fc43-4d74-c27e-b9985bf32d2a",
        "colab": {
          "base_uri": "https://localhost:8080/",
          "height": 867
        }
      },
      "source": [
        "from sklearn.model_selection import GridSearchCV\n",
        "from sklearn.metrics import classification_report\n",
        "\n",
        "scores = []\n",
        "\n",
        "for model_name, mp in models_params.items():\n",
        "  clf = GridSearchCV(mp['model'], mp['params'], cv = 5, return_train_score = False)\n",
        "  clf.fit(X_train, y_train)\n",
        "  print(model_name)\n",
        "  print(classification_report(y_test, clf.predict(X_test)))\n",
        "  scores.append({\n",
        "      'model': model_name,\n",
        "      'best_score':clf.best_score_,\n",
        "      'best_params': clf.best_params_\n",
        "  })\n",
        "\n",
        "  "
      ],
      "execution_count": 0,
      "outputs": [
        {
          "output_type": "stream",
          "text": [
            "logistic_regression_l1\n",
            "              precision    recall  f1-score   support\n",
            "\n",
            "          -1       1.00      1.00      1.00       249\n",
            "           1       1.00      1.00      1.00       278\n",
            "\n",
            "    accuracy                           1.00       527\n",
            "   macro avg       1.00      1.00      1.00       527\n",
            "weighted avg       1.00      1.00      1.00       527\n",
            "\n",
            "logistic_regression_l2\n",
            "              precision    recall  f1-score   support\n",
            "\n",
            "          -1       0.99      1.00      0.99       249\n",
            "           1       1.00      0.99      0.99       278\n",
            "\n",
            "    accuracy                           0.99       527\n",
            "   macro avg       0.99      0.99      0.99       527\n",
            "weighted avg       0.99      0.99      0.99       527\n",
            "\n",
            "svc\n",
            "              precision    recall  f1-score   support\n",
            "\n",
            "          -1       1.00      1.00      1.00       249\n",
            "           1       1.00      1.00      1.00       278\n",
            "\n",
            "    accuracy                           1.00       527\n",
            "   macro avg       1.00      1.00      1.00       527\n",
            "weighted avg       1.00      1.00      1.00       527\n",
            "\n",
            "knn_simple\n",
            "              precision    recall  f1-score   support\n",
            "\n",
            "          -1       0.92      0.94      0.93       249\n",
            "           1       0.94      0.92      0.93       278\n",
            "\n",
            "    accuracy                           0.93       527\n",
            "   macro avg       0.93      0.93      0.93       527\n",
            "weighted avg       0.93      0.93      0.93       527\n",
            "\n",
            "knn_mahalanobis\n",
            "              precision    recall  f1-score   support\n",
            "\n",
            "          -1       0.86      0.95      0.90       249\n",
            "           1       0.95      0.86      0.90       278\n",
            "\n",
            "    accuracy                           0.90       527\n",
            "   macro avg       0.90      0.90      0.90       527\n",
            "weighted avg       0.91      0.90      0.90       527\n",
            "\n"
          ],
          "name": "stdout"
        }
      ]
    },
    {
      "cell_type": "code",
      "metadata": {
        "id": "bJXF5vQzo7W1",
        "colab_type": "code",
        "outputId": "aa274dc1-417c-4755-900f-e2d4db7d3bc5",
        "colab": {
          "base_uri": "https://localhost:8080/",
          "height": 204
        }
      },
      "source": [
        "scores_df = pd.DataFrame(scores)\n",
        "scores_df"
      ],
      "execution_count": 0,
      "outputs": [
        {
          "output_type": "execute_result",
          "data": {
            "text/html": [
              "<div>\n",
              "<style scoped>\n",
              "    .dataframe tbody tr th:only-of-type {\n",
              "        vertical-align: middle;\n",
              "    }\n",
              "\n",
              "    .dataframe tbody tr th {\n",
              "        vertical-align: top;\n",
              "    }\n",
              "\n",
              "    .dataframe thead th {\n",
              "        text-align: right;\n",
              "    }\n",
              "</style>\n",
              "<table border=\"1\" class=\"dataframe\">\n",
              "  <thead>\n",
              "    <tr style=\"text-align: right;\">\n",
              "      <th></th>\n",
              "      <th>model</th>\n",
              "      <th>best_score</th>\n",
              "      <th>best_params</th>\n",
              "    </tr>\n",
              "  </thead>\n",
              "  <tbody>\n",
              "    <tr>\n",
              "      <th>0</th>\n",
              "      <td>logistic_regression_l1</td>\n",
              "      <td>0.996748</td>\n",
              "      <td>{'C': 5}</td>\n",
              "    </tr>\n",
              "    <tr>\n",
              "      <th>1</th>\n",
              "      <td>logistic_regression_l2</td>\n",
              "      <td>0.993489</td>\n",
              "      <td>{'C': 10}</td>\n",
              "    </tr>\n",
              "    <tr>\n",
              "      <th>2</th>\n",
              "      <td>svc</td>\n",
              "      <td>0.993496</td>\n",
              "      <td>{'C': 20, 'kernel': 'linear'}</td>\n",
              "    </tr>\n",
              "    <tr>\n",
              "      <th>3</th>\n",
              "      <td>knn_simple</td>\n",
              "      <td>0.935689</td>\n",
              "      <td>{'n_neighbors': 10, 'p': 2}</td>\n",
              "    </tr>\n",
              "    <tr>\n",
              "      <th>4</th>\n",
              "      <td>knn_mahalanobis</td>\n",
              "      <td>0.908054</td>\n",
              "      <td>{'algorithm': 'brute', 'metric': 'mahalanobis'...</td>\n",
              "    </tr>\n",
              "  </tbody>\n",
              "</table>\n",
              "</div>"
            ],
            "text/plain": [
              "                    model  ...                                        best_params\n",
              "0  logistic_regression_l1  ...                                           {'C': 5}\n",
              "1  logistic_regression_l2  ...                                          {'C': 10}\n",
              "2                     svc  ...                      {'C': 20, 'kernel': 'linear'}\n",
              "3              knn_simple  ...                        {'n_neighbors': 10, 'p': 2}\n",
              "4         knn_mahalanobis  ...  {'algorithm': 'brute', 'metric': 'mahalanobis'...\n",
              "\n",
              "[5 rows x 3 columns]"
            ]
          },
          "metadata": {
            "tags": []
          },
          "execution_count": 52
        }
      ]
    },
    {
      "cell_type": "code",
      "metadata": {
        "id": "J3pIY17epjfv",
        "colab_type": "code",
        "outputId": "2c109cfa-eacb-45da-b45c-7b00108efec8",
        "colab": {
          "base_uri": "https://localhost:8080/",
          "height": 34
        }
      },
      "source": [
        "from sklearn.svm import SVC\n",
        "\n",
        "# Make optimal classifier\n",
        "clf = SVC(kernel=\"linear\", C = 20, probability=True)\n",
        "\n",
        "# Train\n",
        "clf.fit(X_train, y_train)\n",
        "clf.score(X_test, y_test)"
      ],
      "execution_count": 0,
      "outputs": [
        {
          "output_type": "execute_result",
          "data": {
            "text/plain": [
              "0.9962049335863378"
            ]
          },
          "metadata": {
            "tags": []
          },
          "execution_count": 53
        }
      ]
    },
    {
      "cell_type": "code",
      "metadata": {
        "id": "R6H2sjcwDLRe",
        "colab_type": "code",
        "outputId": "8dfb0173-b6c8-4990-f466-79e18911d895",
        "colab": {
          "base_uri": "https://localhost:8080/",
          "height": 34
        }
      },
      "source": [
        "from sklearn.linear_model import LogisticRegression\n",
        "\n",
        "# Make optimal classifier\n",
        "log_clf = LogisticRegression(solver = \"liblinear\", penalty=\"l1\", C = 1)\n",
        "\n",
        "# Train\n",
        "log_clf.fit(X_train, y_train)\n",
        "log_clf.score(X_test, y_test)"
      ],
      "execution_count": 0,
      "outputs": [
        {
          "output_type": "execute_result",
          "data": {
            "text/plain": [
              "0.9943074003795066"
            ]
          },
          "metadata": {
            "tags": []
          },
          "execution_count": 54
        }
      ]
    },
    {
      "cell_type": "code",
      "metadata": {
        "id": "1tH4QSQOrReD",
        "colab_type": "code",
        "colab": {}
      },
      "source": [
        "svc_prediction = clf.predict(X_test)\n",
        "log_prediction = log_clf.predict(X_test)"
      ],
      "execution_count": 0,
      "outputs": []
    },
    {
      "cell_type": "code",
      "metadata": {
        "id": "YFBEgu6nrZT9",
        "colab_type": "code",
        "colab": {}
      },
      "source": [
        "svc_proba = clf.predict_proba(X_test)\n",
        "log_proba = log_clf.predict_proba(X_test)"
      ],
      "execution_count": 0,
      "outputs": []
    },
    {
      "cell_type": "code",
      "metadata": {
        "id": "91Aqz_uOrg2Q",
        "colab_type": "code",
        "colab": {}
      },
      "source": [
        "svc_proba_df = pd.DataFrame(svc_proba)\n",
        "log_proba_df = pd.DataFrame(X_test)"
      ],
      "execution_count": 0,
      "outputs": []
    },
    {
      "cell_type": "code",
      "metadata": {
        "id": "i78pv5_RtnJT",
        "colab_type": "code",
        "outputId": "a333fc58-c43c-4b0a-e6bd-c72b1758cfcf",
        "colab": {
          "base_uri": "https://localhost:8080/",
          "height": 592
        }
      },
      "source": [
        "plt.clf\n",
        "plt.figure(figsize=(20,10))\n",
        "\n",
        "pts = X_test[:, 4:6]\n",
        "x = pts.T[0]\n",
        "_y = pts.T[1]\n",
        "\n",
        "plt.scatter(x = x, y = _y) \n",
        "plt.plot(clf.support_vectors_[:, 0], clf.support_vectors_[:, 1], c=\"red\")\n",
        "plt.show()\n"
      ],
      "execution_count": 0,
      "outputs": [
        {
          "output_type": "display_data",
          "data": {
            "image/png": "[encoded data removed]",
            "text/plain": [
              "<Figure size 1440x720 with 1 Axes>"
            ]
          },
          "metadata": {
            "tags": [],
            "needs_background": "light"
          }
        }
      ]
    },
    {
      "cell_type": "markdown",
      "metadata": {
        "id": "WXv68AuzbXkm",
        "colab_type": "text"
      },
      "source": [
        "### B3. Predict Probability"
      ]
    },
    {
      "cell_type": "code",
      "metadata": {
        "id": "rrkVNka6Emn9",
        "colab_type": "code",
        "outputId": "4e4cb36f-5c47-4b15-cbe5-8dfd280b345f",
        "colab": {
          "base_uri": "https://localhost:8080/",
          "height": 204
        }
      },
      "source": [
        "# SVC classifier\n",
        "sigmoid_df = pd.DataFrame(data=X_test, columns=orig_column_names)\n",
        "sigmoid_df.head()\n",
        "\n",
        "def apply_sigmoid(row):\n",
        "  val = clf.predict([row])\n",
        "  return 1/(1+np.exp(-val))[0]  \n",
        "\n",
        "def apply_sigmprob(row):\n",
        "  row = row[:-1]\n",
        "  val = clf.predict_proba([row])\n",
        "  return val[0]  \n",
        "\n",
        "sigmoid_df[\"s_fn\"] = sigmoid_df.apply(lambda row: apply_sigmoid(row)  , axis=1)\n",
        "sigmoid_df[\"s_prob\"] = sigmoid_df.apply(lambda row: apply_sigmprob(row)  , axis=1)\n",
        "sigmoid_df[\"s_prob_m1\"] = sigmoid_df.s_prob.apply(lambda x : x[0])\n",
        "sigmoid_df[\"s_prob_p1\"] = sigmoid_df.s_prob.apply(lambda x : x[1])\n",
        "sigmoid_df = sigmoid_df.drop(\"s_prob\", axis=1)\n",
        "sigmoid_df[\"actual_bet\"] = sigmoid_df.apply(lambda x : 1 if x[\"s_prob_p1\"] > x[\"s_prob_m1\"] else 0, axis=1)\n",
        "sigmoid_df[\"bet\"] = sigmoid_df.s_prob_p1.apply(lambda x : 1 if x > .97 else 0) \n",
        "\"\"\" since the variance was very high, it's difficult to see which bets will happened and which won't. \n",
        "Hence the threshold is set to 97% to make it visually evident as to which bets will go through\n",
        "and which will not go through\n",
        "\"\"\"\n",
        "sigmoid_df.head()"
      ],
      "execution_count": 0,
      "outputs": [
        {
          "output_type": "execute_result",
          "data": {
            "text/html": [
              "<div>\n",
              "<style scoped>\n",
              "    .dataframe tbody tr th:only-of-type {\n",
              "        vertical-align: middle;\n",
              "    }\n",
              "\n",
              "    .dataframe tbody tr th {\n",
              "        vertical-align: top;\n",
              "    }\n",
              "\n",
              "    .dataframe thead th {\n",
              "        text-align: right;\n",
              "    }\n",
              "</style>\n",
              "<table border=\"1\" class=\"dataframe\">\n",
              "  <thead>\n",
              "    <tr style=\"text-align: right;\">\n",
              "      <th></th>\n",
              "      <th>open</th>\n",
              "      <th>high</th>\n",
              "      <th>low</th>\n",
              "      <th>close</th>\n",
              "      <th>return</th>\n",
              "      <th>momentum</th>\n",
              "      <th>SMA</th>\n",
              "      <th>EMA</th>\n",
              "      <th>std</th>\n",
              "      <th>s_fn</th>\n",
              "      <th>s_prob_m1</th>\n",
              "      <th>s_prob_p1</th>\n",
              "      <th>actual_bet</th>\n",
              "      <th>bet</th>\n",
              "    </tr>\n",
              "  </thead>\n",
              "  <tbody>\n",
              "    <tr>\n",
              "      <th>0</th>\n",
              "      <td>-0.134271</td>\n",
              "      <td>-0.170022</td>\n",
              "      <td>-0.202444</td>\n",
              "      <td>-0.252587</td>\n",
              "      <td>-1.129812</td>\n",
              "      <td>-0.420012</td>\n",
              "      <td>-0.159819</td>\n",
              "      <td>-0.179758</td>\n",
              "      <td>0.622279</td>\n",
              "      <td>0.268941</td>\n",
              "      <td>9.999999e-01</td>\n",
              "      <td>1.000000e-07</td>\n",
              "      <td>0</td>\n",
              "      <td>0</td>\n",
              "    </tr>\n",
              "    <tr>\n",
              "      <th>1</th>\n",
              "      <td>-0.063059</td>\n",
              "      <td>0.021209</td>\n",
              "      <td>-0.035417</td>\n",
              "      <td>0.067734</td>\n",
              "      <td>1.226092</td>\n",
              "      <td>-1.385716</td>\n",
              "      <td>0.138441</td>\n",
              "      <td>0.137382</td>\n",
              "      <td>1.068050</td>\n",
              "      <td>0.731059</td>\n",
              "      <td>3.000001e-14</td>\n",
              "      <td>1.000000e+00</td>\n",
              "      <td>1</td>\n",
              "      <td>1</td>\n",
              "    </tr>\n",
              "    <tr>\n",
              "      <th>2</th>\n",
              "      <td>-0.878325</td>\n",
              "      <td>-0.879199</td>\n",
              "      <td>-0.832806</td>\n",
              "      <td>-0.814370</td>\n",
              "      <td>0.646747</td>\n",
              "      <td>-0.798101</td>\n",
              "      <td>-0.738631</td>\n",
              "      <td>-0.777536</td>\n",
              "      <td>0.307078</td>\n",
              "      <td>0.731059</td>\n",
              "      <td>3.000001e-14</td>\n",
              "      <td>1.000000e+00</td>\n",
              "      <td>1</td>\n",
              "      <td>1</td>\n",
              "    </tr>\n",
              "    <tr>\n",
              "      <th>3</th>\n",
              "      <td>0.478881</td>\n",
              "      <td>0.440188</td>\n",
              "      <td>0.461012</td>\n",
              "      <td>0.435336</td>\n",
              "      <td>-0.391333</td>\n",
              "      <td>-0.458608</td>\n",
              "      <td>0.493856</td>\n",
              "      <td>0.502223</td>\n",
              "      <td>-0.552430</td>\n",
              "      <td>0.268941</td>\n",
              "      <td>9.999897e-01</td>\n",
              "      <td>1.029932e-05</td>\n",
              "      <td>0</td>\n",
              "      <td>0</td>\n",
              "    </tr>\n",
              "    <tr>\n",
              "      <th>4</th>\n",
              "      <td>0.116890</td>\n",
              "      <td>0.141345</td>\n",
              "      <td>0.181081</td>\n",
              "      <td>0.192653</td>\n",
              "      <td>0.700907</td>\n",
              "      <td>0.789086</td>\n",
              "      <td>0.095276</td>\n",
              "      <td>0.109361</td>\n",
              "      <td>-0.216596</td>\n",
              "      <td>0.731059</td>\n",
              "      <td>3.000001e-14</td>\n",
              "      <td>1.000000e+00</td>\n",
              "      <td>1</td>\n",
              "      <td>1</td>\n",
              "    </tr>\n",
              "  </tbody>\n",
              "</table>\n",
              "</div>"
            ],
            "text/plain": [
              "       open      high       low  ...     s_prob_p1  actual_bet  bet\n",
              "0 -0.134271 -0.170022 -0.202444  ...  1.000000e-07           0    0\n",
              "1 -0.063059  0.021209 -0.035417  ...  1.000000e+00           1    1\n",
              "2 -0.878325 -0.879199 -0.832806  ...  1.000000e+00           1    1\n",
              "3  0.478881  0.440188  0.461012  ...  1.029932e-05           0    0\n",
              "4  0.116890  0.141345  0.181081  ...  1.000000e+00           1    1\n",
              "\n",
              "[5 rows x 14 columns]"
            ]
          },
          "metadata": {
            "tags": []
          },
          "execution_count": 59
        }
      ]
    },
    {
      "cell_type": "code",
      "metadata": {
        "id": "YNpiNEbZQmoy",
        "colab_type": "code",
        "outputId": "3e8f68d7-608c-4f8a-830a-59edca4da1be",
        "colab": {
          "base_uri": "https://localhost:8080/",
          "height": 204
        }
      },
      "source": [
        "sigmoid_df[(sigmoid_df.actual_bet != sigmoid_df.bet) ].head()"
      ],
      "execution_count": 0,
      "outputs": [
        {
          "output_type": "execute_result",
          "data": {
            "text/html": [
              "<div>\n",
              "<style scoped>\n",
              "    .dataframe tbody tr th:only-of-type {\n",
              "        vertical-align: middle;\n",
              "    }\n",
              "\n",
              "    .dataframe tbody tr th {\n",
              "        vertical-align: top;\n",
              "    }\n",
              "\n",
              "    .dataframe thead th {\n",
              "        text-align: right;\n",
              "    }\n",
              "</style>\n",
              "<table border=\"1\" class=\"dataframe\">\n",
              "  <thead>\n",
              "    <tr style=\"text-align: right;\">\n",
              "      <th></th>\n",
              "      <th>open</th>\n",
              "      <th>high</th>\n",
              "      <th>low</th>\n",
              "      <th>close</th>\n",
              "      <th>return</th>\n",
              "      <th>momentum</th>\n",
              "      <th>SMA</th>\n",
              "      <th>EMA</th>\n",
              "      <th>std</th>\n",
              "      <th>s_fn</th>\n",
              "      <th>s_prob_m1</th>\n",
              "      <th>s_prob_p1</th>\n",
              "      <th>actual_bet</th>\n",
              "      <th>bet</th>\n",
              "    </tr>\n",
              "  </thead>\n",
              "  <tbody>\n",
              "    <tr>\n",
              "      <th>11</th>\n",
              "      <td>-0.941159</td>\n",
              "      <td>-0.992632</td>\n",
              "      <td>-0.901238</td>\n",
              "      <td>-0.939811</td>\n",
              "      <td>0.011135</td>\n",
              "      <td>-0.171891</td>\n",
              "      <td>-0.927455</td>\n",
              "      <td>-0.938970</td>\n",
              "      <td>-0.842147</td>\n",
              "      <td>0.731059</td>\n",
              "      <td>0.352082</td>\n",
              "      <td>0.647918</td>\n",
              "      <td>1</td>\n",
              "      <td>0</td>\n",
              "    </tr>\n",
              "    <tr>\n",
              "      <th>16</th>\n",
              "      <td>0.781180</td>\n",
              "      <td>0.733737</td>\n",
              "      <td>0.800065</td>\n",
              "      <td>0.788805</td>\n",
              "      <td>0.068389</td>\n",
              "      <td>0.355859</td>\n",
              "      <td>0.788294</td>\n",
              "      <td>0.774945</td>\n",
              "      <td>-0.901936</td>\n",
              "      <td>0.731059</td>\n",
              "      <td>0.081656</td>\n",
              "      <td>0.918344</td>\n",
              "      <td>1</td>\n",
              "      <td>0</td>\n",
              "    </tr>\n",
              "    <tr>\n",
              "      <th>57</th>\n",
              "      <td>0.665985</td>\n",
              "      <td>0.646590</td>\n",
              "      <td>0.679750</td>\n",
              "      <td>0.664062</td>\n",
              "      <td>-0.015678</td>\n",
              "      <td>2.034415</td>\n",
              "      <td>0.576573</td>\n",
              "      <td>0.580512</td>\n",
              "      <td>-0.362201</td>\n",
              "      <td>0.731059</td>\n",
              "      <td>0.396820</td>\n",
              "      <td>0.603180</td>\n",
              "      <td>1</td>\n",
              "      <td>0</td>\n",
              "    </tr>\n",
              "    <tr>\n",
              "      <th>65</th>\n",
              "      <td>0.797237</td>\n",
              "      <td>0.773430</td>\n",
              "      <td>0.802996</td>\n",
              "      <td>0.797180</td>\n",
              "      <td>0.001120</td>\n",
              "      <td>-0.380628</td>\n",
              "      <td>0.831283</td>\n",
              "      <td>0.817998</td>\n",
              "      <td>-1.301957</td>\n",
              "      <td>0.731059</td>\n",
              "      <td>0.445972</td>\n",
              "      <td>0.554028</td>\n",
              "      <td>1</td>\n",
              "      <td>0</td>\n",
              "    </tr>\n",
              "    <tr>\n",
              "      <th>90</th>\n",
              "      <td>0.630729</td>\n",
              "      <td>0.606721</td>\n",
              "      <td>0.633383</td>\n",
              "      <td>0.631437</td>\n",
              "      <td>0.007550</td>\n",
              "      <td>-0.612995</td>\n",
              "      <td>0.710170</td>\n",
              "      <td>0.687228</td>\n",
              "      <td>-0.868417</td>\n",
              "      <td>0.731059</td>\n",
              "      <td>0.444931</td>\n",
              "      <td>0.555069</td>\n",
              "      <td>1</td>\n",
              "      <td>0</td>\n",
              "    </tr>\n",
              "  </tbody>\n",
              "</table>\n",
              "</div>"
            ],
            "text/plain": [
              "        open      high       low  ...  s_prob_p1  actual_bet  bet\n",
              "11 -0.941159 -0.992632 -0.901238  ...   0.647918           1    0\n",
              "16  0.781180  0.733737  0.800065  ...   0.918344           1    0\n",
              "57  0.665985  0.646590  0.679750  ...   0.603180           1    0\n",
              "65  0.797237  0.773430  0.802996  ...   0.554028           1    0\n",
              "90  0.630729  0.606721  0.633383  ...   0.555069           1    0\n",
              "\n",
              "[5 rows x 14 columns]"
            ]
          },
          "metadata": {
            "tags": []
          },
          "execution_count": 60
        }
      ]
    },
    {
      "cell_type": "code",
      "metadata": {
        "id": "TokcLBggMc7X",
        "colab_type": "code",
        "outputId": "41375e50-7528-4dc8-ba0e-86cfe6cd977f",
        "colab": {
          "base_uri": "https://localhost:8080/",
          "height": 204
        }
      },
      "source": [
        "g_df = sigmoid_df[sigmoid_df[\"bet\"] > 0]\n",
        "r_df = sigmoid_df[sigmoid_df[\"bet\"] <= 0]\n",
        "r_df.head()"
      ],
      "execution_count": 0,
      "outputs": [
        {
          "output_type": "execute_result",
          "data": {
            "text/html": [
              "<div>\n",
              "<style scoped>\n",
              "    .dataframe tbody tr th:only-of-type {\n",
              "        vertical-align: middle;\n",
              "    }\n",
              "\n",
              "    .dataframe tbody tr th {\n",
              "        vertical-align: top;\n",
              "    }\n",
              "\n",
              "    .dataframe thead th {\n",
              "        text-align: right;\n",
              "    }\n",
              "</style>\n",
              "<table border=\"1\" class=\"dataframe\">\n",
              "  <thead>\n",
              "    <tr style=\"text-align: right;\">\n",
              "      <th></th>\n",
              "      <th>open</th>\n",
              "      <th>high</th>\n",
              "      <th>low</th>\n",
              "      <th>close</th>\n",
              "      <th>return</th>\n",
              "      <th>momentum</th>\n",
              "      <th>SMA</th>\n",
              "      <th>EMA</th>\n",
              "      <th>std</th>\n",
              "      <th>s_fn</th>\n",
              "      <th>s_prob_m1</th>\n",
              "      <th>s_prob_p1</th>\n",
              "      <th>actual_bet</th>\n",
              "      <th>bet</th>\n",
              "    </tr>\n",
              "  </thead>\n",
              "  <tbody>\n",
              "    <tr>\n",
              "      <th>0</th>\n",
              "      <td>-0.134271</td>\n",
              "      <td>-0.170022</td>\n",
              "      <td>-0.202444</td>\n",
              "      <td>-0.252587</td>\n",
              "      <td>-1.129812</td>\n",
              "      <td>-0.420012</td>\n",
              "      <td>-0.159819</td>\n",
              "      <td>-0.179758</td>\n",
              "      <td>0.622279</td>\n",
              "      <td>0.268941</td>\n",
              "      <td>1.000000</td>\n",
              "      <td>1.000000e-07</td>\n",
              "      <td>0</td>\n",
              "      <td>0</td>\n",
              "    </tr>\n",
              "    <tr>\n",
              "      <th>3</th>\n",
              "      <td>0.478881</td>\n",
              "      <td>0.440188</td>\n",
              "      <td>0.461012</td>\n",
              "      <td>0.435336</td>\n",
              "      <td>-0.391333</td>\n",
              "      <td>-0.458608</td>\n",
              "      <td>0.493856</td>\n",
              "      <td>0.502223</td>\n",
              "      <td>-0.552430</td>\n",
              "      <td>0.268941</td>\n",
              "      <td>0.999990</td>\n",
              "      <td>1.029932e-05</td>\n",
              "      <td>0</td>\n",
              "      <td>0</td>\n",
              "    </tr>\n",
              "    <tr>\n",
              "      <th>5</th>\n",
              "      <td>0.493542</td>\n",
              "      <td>0.485878</td>\n",
              "      <td>0.413437</td>\n",
              "      <td>0.360489</td>\n",
              "      <td>-1.200755</td>\n",
              "      <td>-1.576338</td>\n",
              "      <td>0.562302</td>\n",
              "      <td>0.514082</td>\n",
              "      <td>-0.230549</td>\n",
              "      <td>0.268941</td>\n",
              "      <td>1.000000</td>\n",
              "      <td>1.000000e-07</td>\n",
              "      <td>0</td>\n",
              "      <td>0</td>\n",
              "    </tr>\n",
              "    <tr>\n",
              "      <th>11</th>\n",
              "      <td>-0.941159</td>\n",
              "      <td>-0.992632</td>\n",
              "      <td>-0.901238</td>\n",
              "      <td>-0.939811</td>\n",
              "      <td>0.011135</td>\n",
              "      <td>-0.171891</td>\n",
              "      <td>-0.927455</td>\n",
              "      <td>-0.938970</td>\n",
              "      <td>-0.842147</td>\n",
              "      <td>0.731059</td>\n",
              "      <td>0.352082</td>\n",
              "      <td>6.479177e-01</td>\n",
              "      <td>1</td>\n",
              "      <td>0</td>\n",
              "    </tr>\n",
              "    <tr>\n",
              "      <th>14</th>\n",
              "      <td>0.209220</td>\n",
              "      <td>0.149637</td>\n",
              "      <td>0.154880</td>\n",
              "      <td>0.118330</td>\n",
              "      <td>-0.839744</td>\n",
              "      <td>-0.232544</td>\n",
              "      <td>0.129043</td>\n",
              "      <td>0.153023</td>\n",
              "      <td>0.028571</td>\n",
              "      <td>0.268941</td>\n",
              "      <td>1.000000</td>\n",
              "      <td>1.000000e-07</td>\n",
              "      <td>0</td>\n",
              "      <td>0</td>\n",
              "    </tr>\n",
              "  </tbody>\n",
              "</table>\n",
              "</div>"
            ],
            "text/plain": [
              "        open      high       low  ...     s_prob_p1  actual_bet  bet\n",
              "0  -0.134271 -0.170022 -0.202444  ...  1.000000e-07           0    0\n",
              "3   0.478881  0.440188  0.461012  ...  1.029932e-05           0    0\n",
              "5   0.493542  0.485878  0.413437  ...  1.000000e-07           0    0\n",
              "11 -0.941159 -0.992632 -0.901238  ...  6.479177e-01           1    0\n",
              "14  0.209220  0.149637  0.154880  ...  1.000000e-07           0    0\n",
              "\n",
              "[5 rows x 14 columns]"
            ]
          },
          "metadata": {
            "tags": []
          },
          "execution_count": 61
        }
      ]
    },
    {
      "cell_type": "code",
      "metadata": {
        "id": "vG87TtJgFzBj",
        "colab_type": "code",
        "outputId": "ffcb9211-f485-46da-9a4b-d9b032fae5e6",
        "colab": {
          "base_uri": "https://localhost:8080/",
          "height": 265
        }
      },
      "source": [
        "plt.scatter(x=g_df[\"return\"], y=g_df[\"s_fn\"], c=\"g\")\n",
        "plt.scatter(x=r_df[\"return\"], y=r_df[\"s_fn\"], c=\"r\")\n",
        "\n",
        "plt.show()"
      ],
      "execution_count": 0,
      "outputs": [
        {
          "output_type": "display_data",
          "data": {
            "image/png": "[encoded data removed]",
            "text/plain": [
              "<Figure size 432x288 with 1 Axes>"
            ]
          },
          "metadata": {
            "tags": [],
            "needs_background": "light"
          }
        }
      ]
    },
    {
      "cell_type": "code",
      "metadata": {
        "id": "2nl35zCve5IG",
        "colab_type": "code",
        "outputId": "977a964e-c66b-4574-9635-db14ad744040",
        "colab": {
          "base_uri": "https://localhost:8080/",
          "height": 111
        }
      },
      "source": [
        "X_test_df = pd.DataFrame(X_test)\n",
        "X_test_df.columns = orig_column_names\n",
        "X_test_df = X_test_df[[\"return\"]]\n",
        "X_test_df[\"actual\"] = y_test.values\n",
        "X_test_df['predict'] = clf.predict(X_test)\n",
        "X_test_df['g_col'] = np.where(X_test_df.actual==X_test_df.predict, 1, 0)\n",
        "red_df = X_test_df[X_test_df.g_col != 1]\n",
        "green_df = X_test_df[X_test_df.g_col == 1]\n",
        "red_df"
      ],
      "execution_count": 0,
      "outputs": [
        {
          "output_type": "execute_result",
          "data": {
            "text/html": [
              "<div>\n",
              "<style scoped>\n",
              "    .dataframe tbody tr th:only-of-type {\n",
              "        vertical-align: middle;\n",
              "    }\n",
              "\n",
              "    .dataframe tbody tr th {\n",
              "        vertical-align: top;\n",
              "    }\n",
              "\n",
              "    .dataframe thead th {\n",
              "        text-align: right;\n",
              "    }\n",
              "</style>\n",
              "<table border=\"1\" class=\"dataframe\">\n",
              "  <thead>\n",
              "    <tr style=\"text-align: right;\">\n",
              "      <th></th>\n",
              "      <th>return</th>\n",
              "      <th>actual</th>\n",
              "      <th>predict</th>\n",
              "      <th>g_col</th>\n",
              "    </tr>\n",
              "  </thead>\n",
              "  <tbody>\n",
              "    <tr>\n",
              "      <th>57</th>\n",
              "      <td>-0.015678</td>\n",
              "      <td>-1</td>\n",
              "      <td>1</td>\n",
              "      <td>0</td>\n",
              "    </tr>\n",
              "    <tr>\n",
              "      <th>158</th>\n",
              "      <td>-0.013934</td>\n",
              "      <td>1</td>\n",
              "      <td>-1</td>\n",
              "      <td>0</td>\n",
              "    </tr>\n",
              "  </tbody>\n",
              "</table>\n",
              "</div>"
            ],
            "text/plain": [
              "       return  actual  predict  g_col\n",
              "57  -0.015678      -1        1      0\n",
              "158 -0.013934       1       -1      0"
            ]
          },
          "metadata": {
            "tags": []
          },
          "execution_count": 63
        }
      ]
    },
    {
      "cell_type": "code",
      "metadata": {
        "id": "FwTPtQywe81S",
        "colab_type": "code",
        "outputId": "8c9ba3aa-167d-4cfe-875b-3888db04895d",
        "colab": {
          "base_uri": "https://localhost:8080/",
          "height": 265
        }
      },
      "source": [
        "plt.scatter(x=red_df[\"return\"], y=red_df[\"predict\"], c=\"r\")\n",
        "plt.show() # SVM classifier - Wrongly predicted in a seaprate graph for highlighting purpose"
      ],
      "execution_count": 0,
      "outputs": [
        {
          "output_type": "display_data",
          "data": {
            "image/png": "[encoded data removed]",
            "text/plain": [
              "<Figure size 432x288 with 1 Axes>"
            ]
          },
          "metadata": {
            "tags": [],
            "needs_background": "light"
          }
        }
      ]
    },
    {
      "cell_type": "code",
      "metadata": {
        "id": "UGXF5HgRiLDs",
        "colab_type": "code",
        "outputId": "4c5db26e-2926-44d9-afa7-d56383f6e885",
        "colab": {
          "base_uri": "https://localhost:8080/",
          "height": 265
        }
      },
      "source": [
        "plt.scatter(x=green_df[\"return\"], y=green_df[\"predict\"], c=\"g\")\n",
        "plt.show() # SVM classifier - righhtly predicted"
      ],
      "execution_count": 0,
      "outputs": [
        {
          "output_type": "display_data",
          "data": {
            "image/png": "[encoded data removed]",
            "text/plain": [
              "<Figure size 432x288 with 1 Axes>"
            ]
          },
          "metadata": {
            "tags": [],
            "needs_background": "light"
          }
        }
      ]
    },
    {
      "cell_type": "markdown",
      "metadata": {
        "id": "XybQJfyBpWpJ",
        "colab_type": "text"
      },
      "source": [
        "### B3. LOGIT cleassifier to illustrate prediction quality"
      ]
    },
    {
      "cell_type": "code",
      "metadata": {
        "id": "WpXPKSJJnker",
        "colab_type": "code",
        "outputId": "fd024fa4-6332-4958-a0ee-3f000c3817cd",
        "colab": {
          "base_uri": "https://localhost:8080/",
          "height": 142
        }
      },
      "source": [
        "X_test_df = pd.DataFrame(X_test)\n",
        "X_test_df.columns = orig_column_names\n",
        "X_test_df = X_test_df[[\"return\"]]\n",
        "X_test_df[\"actual\"] = y_test.values\n",
        "X_test_df['predict'] = log_clf.predict(X_test) #Logit classifier\n",
        "X_test_df['g_col'] = np.where(X_test_df.actual==X_test_df.predict, 1, 0)\n",
        "red_df = X_test_df[X_test_df.g_col != 1]\n",
        "green_df = X_test_df[X_test_df.g_col == 1]\n",
        "red_df"
      ],
      "execution_count": 0,
      "outputs": [
        {
          "output_type": "execute_result",
          "data": {
            "text/html": [
              "<div>\n",
              "<style scoped>\n",
              "    .dataframe tbody tr th:only-of-type {\n",
              "        vertical-align: middle;\n",
              "    }\n",
              "\n",
              "    .dataframe tbody tr th {\n",
              "        vertical-align: top;\n",
              "    }\n",
              "\n",
              "    .dataframe thead th {\n",
              "        text-align: right;\n",
              "    }\n",
              "</style>\n",
              "<table border=\"1\" class=\"dataframe\">\n",
              "  <thead>\n",
              "    <tr style=\"text-align: right;\">\n",
              "      <th></th>\n",
              "      <th>return</th>\n",
              "      <th>actual</th>\n",
              "      <th>predict</th>\n",
              "      <th>g_col</th>\n",
              "    </tr>\n",
              "  </thead>\n",
              "  <tbody>\n",
              "    <tr>\n",
              "      <th>57</th>\n",
              "      <td>-0.015678</td>\n",
              "      <td>-1</td>\n",
              "      <td>1</td>\n",
              "      <td>0</td>\n",
              "    </tr>\n",
              "    <tr>\n",
              "      <th>158</th>\n",
              "      <td>-0.013934</td>\n",
              "      <td>1</td>\n",
              "      <td>-1</td>\n",
              "      <td>0</td>\n",
              "    </tr>\n",
              "    <tr>\n",
              "      <th>408</th>\n",
              "      <td>-0.008316</td>\n",
              "      <td>1</td>\n",
              "      <td>-1</td>\n",
              "      <td>0</td>\n",
              "    </tr>\n",
              "  </tbody>\n",
              "</table>\n",
              "</div>"
            ],
            "text/plain": [
              "       return  actual  predict  g_col\n",
              "57  -0.015678      -1        1      0\n",
              "158 -0.013934       1       -1      0\n",
              "408 -0.008316       1       -1      0"
            ]
          },
          "metadata": {
            "tags": []
          },
          "execution_count": 66
        }
      ]
    },
    {
      "cell_type": "code",
      "metadata": {
        "id": "t1LJU41sp0NE",
        "colab_type": "code",
        "outputId": "1e1d1a9f-efaa-43ca-a4df-d5896952d3ec",
        "colab": {
          "base_uri": "https://localhost:8080/",
          "height": 265
        }
      },
      "source": [
        "plt.scatter(x=red_df[\"return\"], y=red_df[\"predict\"], c=\"r\")\n",
        "plt.show() # Logit classifier - Wrongly predicted in a seaprate graph for highlighting purpose"
      ],
      "execution_count": 0,
      "outputs": [
        {
          "output_type": "display_data",
          "data": {
            "image/png": "[encoded data removed]",
            "text/plain": [
              "<Figure size 432x288 with 1 Axes>"
            ]
          },
          "metadata": {
            "tags": [],
            "needs_background": "light"
          }
        }
      ]
    },
    {
      "cell_type": "code",
      "metadata": {
        "id": "Wae3SNbPp6yO",
        "colab_type": "code",
        "outputId": "70db9ad6-3ca0-4617-fd1d-3d60057a1343",
        "colab": {
          "base_uri": "https://localhost:8080/",
          "height": 265
        }
      },
      "source": [
        "plt.scatter(x=green_df[\"return\"], y=green_df[\"predict\"], c=\"g\")\n",
        "plt.show() # Logit classifier - rightly predicted"
      ],
      "execution_count": 0,
      "outputs": [
        {
          "output_type": "display_data",
          "data": {
            "image/png": "[encoded data removed]",
            "text/plain": [
              "<Figure size 432x288 with 1 Axes>"
            ]
          },
          "metadata": {
            "tags": [],
            "needs_background": "light"
          }
        }
      ]
    },
    {
      "cell_type": "code",
      "metadata": {
        "id": "HO8l_SdOp_S9",
        "colab_type": "code",
        "colab": {}
      },
      "source": [
        ""
      ],
      "execution_count": 0,
      "outputs": []
    }
  ]
}